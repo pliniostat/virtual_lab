{
 "cells": [
  {
   "cell_type": "markdown",
   "metadata": {
    "deletable": false,
    "editable": false
   },
   "source": [
    "<a href=\"http://www.unioeste.br\"><img src=\"https://www.unioeste.br/portal/images/001alogo/logotipounioeste-principal.svg\" align=\"right\" style=\"width: 150px;\"></a>\n",
    "\n",
    "<h1><center>Atividade Prática em R - Variáveis Aleatórias Contínuas</center></h1>\n",
    "\n",
    "<center>Prof.Dr. Plinio Andrade</center>\n",
    "\n",
    "### Nesta atividade prática você irá:\n",
    "\n",
    "* Calcular probabilidades, quantis, e simular dados dos modelos Uniforme, Exponencial e Normal.\n",
    "\n",
    "<b> <font color='red'>ATENÇÃO!</font></b> sempre que este notebook for reaberto você deverá executar todas as células de código novamente. Cada célula **ativa** é executada pressionando o botão <b>Run</b> no menu da parte superior da tela, ou teclando <b>Ctrl+Enter</b>. Caso esteja utilizando um smartphone ou tablet, cada célula terá um botão ao lado para ser executada. Persistindo dúvidas, assista novamente o video de apresentação sobre notebooks.\n",
    "\n",
    "## 1) Introdução\n",
    "\n",
    "Assim como no caso discreto, podemos calcular probabilidades, quantis e simular dados de uma v.a. contínua. Seja ```nome``` o rótulo que o R utiliza para identificar uma distribuição e ```parametros``` os parâmetros dessa distribuição. Por exemplo, para uma v.a. binomial, ```nome``` era igual a ```binom``` e ```parametros``` eram os valores ```n,p```. Utiliza-se a mesma sintaxe básica:\n",
    "\n",
    "* ```dnome(x, parametros)```: retorna valores da f.d.p. de uma v.a. $X$ no ponto $x$;\n",
    "* ```pnome(x, parametros)```: retorna valores da f.d.a. de $X$ no ponto $x$;\n",
    "* ```qnome(alpha, parametros)```: retorna o quantil de ordem $0\\leq\\alpha\\leq 1$ da distribuição de $X$. Ou seja, o valor de $x$ tal que $F(x)=\\alpha$;\n",
    "* ```rnome(N,parametros)```: gera uma amostra de tamanho ```N``` da v.a. $X$.\n",
    "\n",
    "## 2) Modelo Uniforme\n",
    "\n",
    "Seja $X\\sim U(a,b)$, ou seja, $X$ é uma v.a. com distribuição uniforme no intervalo real $(a,b)$. Neste caso, ```nome``` é igual a ```unif``` e ```parametros``` são os valores ```a,b```. \n",
    "\n",
    "**Exemplo 1:** Seja $X\\sim U(2,7)$, vamos obter algumas probabilidades (lembre-se que você pode obter esses valores sem o auxílio do R):\n",
    "\n",
    "a) $\\mathbb{P}(X\\leq 3)$\n",
    "\n",
    "b) $\\mathbb{P}(3<X\\leq 6)$\n",
    "\n",
    "c) $\\mathbb{P}(X>6)$"
   ]
  },
  {
   "cell_type": "code",
   "execution_count": null,
   "metadata": {
    "deletable": false,
    "editable": false
   },
   "outputs": [],
   "source": [
    "punif(3,2,7)              # item (a)"
   ]
  },
  {
   "cell_type": "code",
   "execution_count": null,
   "metadata": {
    "deletable": false,
    "editable": false
   },
   "outputs": [],
   "source": [
    "punif(6,2,7)-punif(3,2,7) # item (b)"
   ]
  },
  {
   "cell_type": "code",
   "execution_count": null,
   "metadata": {
    "deletable": false,
    "editable": false
   },
   "outputs": [],
   "source": [
    "1-punif(6,2,7)            # item (c)"
   ]
  },
  {
   "cell_type": "markdown",
   "metadata": {
    "deletable": false,
    "editable": false
   },
   "source": [
    "### Exercício 1:\n",
    "Seja $X$ como no exemplo 1. Calcule $\\mathbb{P}(|X-3|\\geq2)$. **Resposta:** 0,4."
   ]
  },
  {
   "cell_type": "code",
   "execution_count": null,
   "metadata": {},
   "outputs": [],
   "source": []
  },
  {
   "cell_type": "markdown",
   "metadata": {
    "deletable": false,
    "editable": false
   },
   "source": [
    "Podemos plotar o gráfico da f.d.p. de $X$ do exemplo 1 com o seguinte comando:"
   ]
  },
  {
   "cell_type": "code",
   "execution_count": null,
   "metadata": {
    "deletable": false,
    "editable": false
   },
   "outputs": [],
   "source": [
    "curve(dunif(x,2,7))"
   ]
  },
  {
   "cell_type": "markdown",
   "metadata": {
    "deletable": false,
    "editable": false
   },
   "source": [
    "Observe que o gráfico foi plotado apenas no intervalo $(0,1)$, mas a distribuição uniforme do exemplo está definida no intervalo $(2,7)$. Vamos refazer o gráfico para que o intervalo inteiro seja considerado (fora dele a f.d.p. vale 0). Execute a célula a seguir:"
   ]
  },
  {
   "cell_type": "code",
   "execution_count": null,
   "metadata": {
    "deletable": false,
    "editable": false
   },
   "outputs": [],
   "source": [
    "curve(dunif(x,2,7), xlim=c(2,7))  # o argumento xlim define os limites de valores de x para plotar o gráfico."
   ]
  },
  {
   "cell_type": "markdown",
   "metadata": {
    "deletable": false,
    "editable": false
   },
   "source": [
    "Vamos simular $N=500$ valores da v.a. $X$ do exemplo 1 e plotar seu histograma. Ele deverá se comportar aproximadamente como o gráfico da f.d.p. feito acima."
   ]
  },
  {
   "cell_type": "code",
   "execution_count": null,
   "metadata": {
    "deletable": false,
    "editable": false
   },
   "outputs": [],
   "source": [
    "amostra = runif(500,2,7)  # gerando os 500 valores da distribuição uniforme no intervalo (2,7)\n",
    "hist(amostra, freq=FALSE) # plotando o histograma (o argumento freq=FALSE vai torná-lo comparável com a f.d.p. de X)"
   ]
  },
  {
   "cell_type": "markdown",
   "metadata": {
    "deletable": false,
    "editable": false
   },
   "source": [
    "Um quantil da distribuição uniforme é facilmente obtido calculando áreas de retângulos. No exemplo 1, se o interesse fosse calcular o valor de $x$ tal que $\\mathbb{P}(X\\leq x)=0,25$, bastaria fazer com que a área do retângulo de base $x-2$ e altura $0,2$ fosse igual a $0,25$ (tente visualizar isso graficamente). Logo, devemos ter $x=3,25$. No R, o mesmo cálculo é feito por meio do seguinte código:"
   ]
  },
  {
   "cell_type": "code",
   "execution_count": null,
   "metadata": {
    "deletable": false,
    "editable": false
   },
   "outputs": [],
   "source": [
    "qunif(0.25,2,7) # quantil de ordem 0,25 da distribuição U(2,7)."
   ]
  },
  {
   "cell_type": "code",
   "execution_count": null,
   "metadata": {},
   "outputs": [],
   "source": [
    "punif(3.25, 2,7)"
   ]
  },
  {
   "cell_type": "markdown",
   "metadata": {
    "deletable": false,
    "editable": false
   },
   "source": [
    "## 3) Modelo Exponencial\n",
    "\n",
    "Seja $X\\sim exp(\\lambda)$. Neste caso, ```nome``` é igual a ```exp``` e ```parametros``` é o valor de $\\lambda$.\n",
    "\n",
    "**Exemplo 2:** Seja $X\\sim exp(0,7)$, vamos obter algumas probabilidades (como no caso uniforme, esse valores podem ser obtidos sem o auxílio do R):\n",
    "\n",
    "a) $\\mathbb{P}(X\\leq 0,5)$\n",
    "\n",
    "b) $\\mathbb{P}(0,5<X\\leq 0,9)$\n",
    "\n",
    "c) $\\mathbb{P}(X>1)$"
   ]
  },
  {
   "cell_type": "code",
   "execution_count": null,
   "metadata": {
    "deletable": false,
    "editable": false
   },
   "outputs": [],
   "source": [
    "pexp(0.5,0.7)               # item (a)"
   ]
  },
  {
   "cell_type": "code",
   "execution_count": null,
   "metadata": {
    "deletable": false,
    "editable": false
   },
   "outputs": [],
   "source": [
    "pexp(0.9,0.7)-pexp(0.5,0.7) # item (b)"
   ]
  },
  {
   "cell_type": "code",
   "execution_count": null,
   "metadata": {
    "deletable": false,
    "editable": false
   },
   "outputs": [],
   "source": [
    "1-pexp(1,0.7)               # item (c)"
   ]
  },
  {
   "cell_type": "markdown",
   "metadata": {
    "deletable": false,
    "editable": false
   },
   "source": [
    "O gráfico da f.d.p. de $X$ do exemplo 2 pode ser obtido por meio do seguinte comando:"
   ]
  },
  {
   "cell_type": "code",
   "execution_count": null,
   "metadata": {
    "deletable": false,
    "editable": false
   },
   "outputs": [],
   "source": [
    "curve(dexp(x,0.7))"
   ]
  },
  {
   "cell_type": "markdown",
   "metadata": {
    "deletable": false,
    "editable": false
   },
   "source": [
    "Novamente, podemos usar o argumento ```xlim``` para controlar o quanto os valores de $x$ varia do gráfico. Execute a célula a seguir, onde $x$ irá variar no intervalo $(0,10)$ (lembre que a f.d.p. de uma variável exponencial assume valor zero para valores negativos, então não vamos considerá-los no gráfico):"
   ]
  },
  {
   "cell_type": "code",
   "execution_count": null,
   "metadata": {
    "deletable": false,
    "editable": false
   },
   "outputs": [],
   "source": [
    "curve(dexp(x,0.7), xlim=c(0,10))"
   ]
  },
  {
   "cell_type": "markdown",
   "metadata": {
    "deletable": false,
    "editable": false
   },
   "source": [
    "Lembre-se também que uma v.a. exponencial possui suporte no intervalo $(0,\\infty)$. No entanto, no caso do exemplo 2, o valor da f.d.p para $x>10$ é praticamente nulo. Por exemplo, vamos calcular $f(10)$ na célula a seguir (note que o valor será quase zero):"
   ]
  },
  {
   "cell_type": "code",
   "execution_count": null,
   "metadata": {
    "deletable": false,
    "editable": false
   },
   "outputs": [],
   "source": [
    "dexp(10,0.7)"
   ]
  },
  {
   "cell_type": "markdown",
   "metadata": {
    "deletable": false,
    "editable": false
   },
   "source": [
    "Vamos simular $N=500$ valores da distribuição exponencial do exemplo 2 e comparar seu histograma com o a sua f.d.p. Novamente, o histograma deverá se comportar de maneira aproximadamente igual ao gráfico da f.d.p. obtido acima. Execute a célula a seguir:"
   ]
  },
  {
   "cell_type": "code",
   "execution_count": null,
   "metadata": {
    "deletable": false,
    "editable": false
   },
   "outputs": [],
   "source": [
    "amostra = rexp(500,0.7)   # gerando os 500 valores da distribuição exponencial de parâmetro 0,7\n",
    "hist(amostra, freq=FALSE) # plotanto o histograma (o argumento freq=FALSE vai torná-lo comparável com a f.d.p. de X)"
   ]
  },
  {
   "cell_type": "markdown",
   "metadata": {
    "deletable": false,
    "editable": false
   },
   "source": [
    "Os quantis de uma distribuição expoencial são obtidos por meio do comando ```qexp(alpha,lambda)``` (mas acho que você já entendeu a ideia do funcionamento das funções).\n",
    "\n",
    "### Exercício 2:\n",
    "Seja $X$ como no exemplo 2. Obtenha o valor de $x$ tal que $\\mathbb{P}(X\\geq x)=0.25$. **Resposta**: aproximadamente 1,98."
   ]
  },
  {
   "cell_type": "code",
   "execution_count": null,
   "metadata": {},
   "outputs": [],
   "source": []
  },
  {
   "cell_type": "markdown",
   "metadata": {
    "deletable": false,
    "editable": false
   },
   "source": [
    "## 4) Modelo Normal\n",
    "\n",
    "Seja $X\\sim N(\\mu,\\sigma^2)$. Neste caso, ```nome``` é igual a ```norm``` e ```parametros``` são os valores de $\\mu$ e $\\sigma$. Note que o R leva em conta o valor de $\\sigma$ (desvio padrão) e não $\\sigma^2$ (variância) assim, se um problema fornece o valor da variância, devemos extrair sua raíz quadrada para informar o valor do desvio padrão $\\sigma$ na função do R.\n",
    "\n",
    "### Exercício 3:\n",
    "\n",
    "Seja $X\\sim N(2,4)$ (ou seja, $\\mu=2$ e $\\sigma=2$. Sabendo que $\\mathbb{P}(X\\leq x)$ é calculada por meio do comando ```pnorm(x,mu,sigma)```, calcule:\n",
    "\n",
    "a) $\\mathbb{P}(X\\leq 3)$. **Resposta:** $\\approx 0,6915$.\n",
    "\n",
    "b) $\\mathbb{P}(0<X\\leq 4)$. **Resposta:** $\\approx 0,6827$.\n",
    "\n",
    "c) $\\mathbb{P}(|X-2|<1)$. **Resposta:** $\\approx 0,3829$.\n",
    "\n",
    "d) O cálculo de quantis da distribuição normal será muito utilizado nas etapas de inferência da disciplina. Logo, entender como calcular esses quantis no R é fundamental. Obtenha o valor de $x$ tal que acima dele a probabilidade seja igual a $0,125$. **Resposta:** $\\approx 4,3007$. Note que, por simetria, o quantil $-0.3007$ irá acumular probabilidade $0.125$ abaixo dele, ou seja, esse valor pode ser obtido sem nenhum cálculo adicional."
   ]
  },
  {
   "cell_type": "code",
   "execution_count": null,
   "metadata": {},
   "outputs": [],
   "source": []
  },
  {
   "cell_type": "code",
   "execution_count": null,
   "metadata": {},
   "outputs": [],
   "source": []
  },
  {
   "cell_type": "code",
   "execution_count": null,
   "metadata": {},
   "outputs": [],
   "source": []
  },
  {
   "cell_type": "code",
   "execution_count": null,
   "metadata": {},
   "outputs": [],
   "source": []
  },
  {
   "cell_type": "markdown",
   "metadata": {
    "deletable": false,
    "editable": false
   },
   "source": [
    "## 5) Estudo de Simulação\n",
    "\n",
    "Na apresentação da distribuição normal, vimos que as médias de amostras suficientemente grandes de uma distribuição qualquer será aproximadamente normal. Vamos verificar essa afirmação por meio de simulações para um caso particular.\n",
    "\n",
    "Em primeiro lugar, vamos simular $1000$ amostras de tamanho $200$ de uma distribuição exponencial com parâmetro $0,2$ (que sabemos ser assimétrica), e calcular a média de cada amostra, obtendo assim uma nova amostra de médias de tamanho $1000$. Para isso, vamos precisar utilizar uma **estrutura de repetição**. Não se preocupe com o código, apenas entenda que essa estrutura irá repetir a mesma tarefa $1000$ vezes; cada tarefa irá simular uma amostra da distribuição exponencial e armazenar a média dessa amostra simulada em uma componente de um vetor de médias. Execute a célula a seguir:"
   ]
  },
  {
   "cell_type": "code",
   "execution_count": null,
   "metadata": {
    "deletable": false,
    "editable": false
   },
   "outputs": [],
   "source": [
    "medias = 0               # criando um vetor nulo que irá receber em cada componente a média de cada amostra\n",
    "\n",
    "for(i in 1:1000)         # estrutura de repetição\n",
    "{\n",
    "   x = rexp(200, 0.2)    # para cada valor de i, uma amostra de tamanho 200 da distribuição exponencial será gerada\n",
    "   medias[i] = mean(x)   # para cada amostra gerada na linha anterior, sua média é calculada\n",
    "}"
   ]
  },
  {
   "cell_type": "markdown",
   "metadata": {
    "deletable": false,
    "editable": false
   },
   "source": [
    "Vejamos agora como fica o histograma desse vetor de médias criado. Execute a célula a seguir:"
   ]
  },
  {
   "cell_type": "code",
   "execution_count": null,
   "metadata": {
    "deletable": false,
    "editable": false
   },
   "outputs": [],
   "source": [
    "hist(medias)"
   ]
  },
  {
   "cell_type": "markdown",
   "metadata": {
    "deletable": false,
    "editable": false
   },
   "source": [
    "Note que o histograma sugere que a distribuição dessa amostra de médias geradas é simétrica. Você irá aprender em breve que a média amostral e a variância amostral são bons estimadores para a média e a variância populacional respectivamente. Com isso em mente, vamos adicionar ao histograma a curva teórica da distribuição normal com parâmetros estimados pela média e variância da amostra gerada. Execute a célula a seguir (e novamente, não se preocupe com o código):"
   ]
  },
  {
   "cell_type": "code",
   "execution_count": null,
   "metadata": {
    "deletable": false,
    "editable": false
   },
   "outputs": [],
   "source": [
    "me = mean(medias) # calculando a média do vetor de médias gerado\n",
    "dp = sd(medias)   # calculando o desvio padrão do vetor de médias gerado\n",
    "\n",
    "hist(medias, freq=FALSE, col=\"lightblue\", las=1) # histograma com densidade de freq. relativa\n",
    "curve(dnorm(x, me, dp), add=TRUE, lty=2)         # adicionando a curva da f.d.p. normal"
   ]
  },
  {
   "cell_type": "markdown",
   "metadata": {
    "deletable": false,
    "editable": false
   },
   "source": [
    "Note que a f.d.p. da distribuição normal estimada se ajusta muito bem ao histograma dos dados, reforçando assim a tese de que a amostra de médias é normal. A justificativa teórica para esse resultado não é tão simples assim!"
   ]
  }
 ],
 "metadata": {
  "kernelspec": {
   "display_name": "R",
   "language": "R",
   "name": "ir"
  },
  "language_info": {
   "codemirror_mode": "r",
   "file_extension": ".r",
   "mimetype": "text/x-r-source",
   "name": "R",
   "pygments_lexer": "r",
   "version": "3.6.1"
  }
 },
 "nbformat": 4,
 "nbformat_minor": 4
}
