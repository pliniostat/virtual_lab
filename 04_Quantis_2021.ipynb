{
 "cells": [
  {
   "cell_type": "markdown",
   "metadata": {
    "deletable": false,
    "editable": false
   },
   "source": [
    "<a href=\"http://www.unioeste.br\"><img src=\"https://www5.unioeste.br/portalunioeste/templates/tlpcampus/images/logoUnioeste.png\" align=\"right\"></a>\n",
    "\n",
    "<h1><center>Atividade Prática em R - Quantis amostrais e gráficos associados</center></h1>\n",
    "\n",
    "<center>Prof.Dr. Plinio Andrade</center>\n",
    "\n",
    "Neste roteiro prático você aprenderá a utilizar o R para:\n",
    "\n",
    "* Obter quantis amostrais de qualquer ordem;\n",
    "* obter gráficos de quantis;\n",
    "* obter box plots.\n",
    "\n",
    "<b> <font color='red'>ATENÇÃO!</font></b> sempre que este arquivo for reaberto você deverá executar todas as células de código novamente. Cada célula ativa é executada pressionando o botão <b>Run</b> no menu ou teclando <b>Ctrl+Enter</b> (persistindo dúvidas, assista a videoaula de apresentação sobre notebooks).\n",
    "\n",
    "Caso necessite criar mais células de código, basta ir ao menu Insert.\n",
    "\n",
    "## 1) Sobre os dados\n",
    "\n",
    "Vamos utilizar novamente os dados da tabela 2.1. Assim, devemos armazenar esses dados na memória executando a célula a seguir:"
   ]
  },
  {
   "cell_type": "code",
   "execution_count": null,
   "metadata": {
    "deletable": false,
    "editable": false
   },
   "outputs": [],
   "source": [
    "arquivo = url('https://www.ime.usp.br/~pam/dados.RData') # armazenamos o endereço eletrônico numa variável chamada arquivo\n",
    "load(arquivo)                                            # carregando o arquivo\n",
    "attach(tab2_1)                                           # acessando as variáveis"
   ]
  },
  {
   "cell_type": "markdown",
   "metadata": {
    "deletable": false,
    "editable": false
   },
   "source": [
    "Vamos criar também um vetor ```x``` com os dados do exemplo visto em aula. Execute a célula a seguir:"
   ]
  },
  {
   "cell_type": "code",
   "execution_count": null,
   "metadata": {
    "deletable": false,
    "editable": false
   },
   "outputs": [],
   "source": [
    "x = c(15,5,3,8,10,2,7,11,12)\n",
    "x"
   ]
  },
  {
   "cell_type": "markdown",
   "metadata": {
    "deletable": false,
    "editable": false
   },
   "source": [
    "## 2) Quantis Amostrais\n",
    "\n",
    "Quantis amostrais são calculados no R por meio da função ```quantile()```. Devemos informar a variável em estudo e a ordem (proporção) desejada. O R possui 9 algorítmos diferentes para calcular quantis. O método apresentado em aula é o 6º algoritmo. Assim, para comparar com os resultados obtidos em aula, devemos informar qual algoritmo o R deve utilizar usando o argumento ```type = 6```.\n",
    "\n",
    "Vamos, por exemplo calcular os quantis de ordem 0,5 (mediana) e o de ordem 0,32 para os dados do vetor ```x``` criado. Execute a célula a seguir:"
   ]
  },
  {
   "cell_type": "code",
   "execution_count": null,
   "metadata": {
    "deletable": false,
    "editable": false
   },
   "outputs": [],
   "source": [
    "quantile(x, 0.5, type = 6)\n",
    "quantile(x, 0.32, type = 6)"
   ]
  },
  {
   "cell_type": "markdown",
   "metadata": {
    "deletable": false,
    "editable": false
   },
   "source": [
    "Note que se o tipo de algoritmo não for informado, os resultados podem ser diferentes, mas não incorretos, por se tratarem de métodos diferentes de aproximação. Execute a célula a seguir e observe:"
   ]
  },
  {
   "cell_type": "code",
   "execution_count": null,
   "metadata": {
    "deletable": false,
    "editable": false
   },
   "outputs": [],
   "source": [
    "quantile(x, 0.5)\n",
    "quantile(x, 0.32)"
   ]
  },
  {
   "cell_type": "markdown",
   "metadata": {
    "deletable": false,
    "editable": false
   },
   "source": [
    "Vamos obter o quantil de ordem 0,25 da variável **salário** da tabela 2.1. Usaremos o mesmo método visto em aula."
   ]
  },
  {
   "cell_type": "code",
   "execution_count": null,
   "metadata": {
    "deletable": false,
    "editable": false
   },
   "outputs": [],
   "source": [
    "quantile(salario, 0.25, type = 6)"
   ]
  },
  {
   "cell_type": "code",
   "execution_count": null,
   "metadata": {},
   "outputs": [],
   "source": [
    "quantile(salario, 0.25)"
   ]
  },
  {
   "cell_type": "markdown",
   "metadata": {
    "deletable": false,
    "editable": false
   },
   "source": [
    "Logo, podemos dizer que 25% dos funcionários ganham menos que 7,48 salários.\n",
    "\n",
    "***\n",
    "\n",
    "Lembre-se que se a variável possui valores faltantes \"NAs\", devemos incluir o argumendo ```na.rm = TRUE```, como acontece com a variável **número de filhos** da tabela 2.1. Execute as células a seguir e observe:"
   ]
  },
  {
   "cell_type": "code",
   "execution_count": null,
   "metadata": {
    "deletable": false,
    "editable": false
   },
   "outputs": [],
   "source": [
    "quantile(n_filhos, 0.60)                 # não funciona (erro)."
   ]
  },
  {
   "cell_type": "code",
   "execution_count": null,
   "metadata": {
    "deletable": false,
    "editable": false
   },
   "outputs": [],
   "source": [
    "quantile(n_filhos, 0.60, na.rm = TRUE)   # código correto."
   ]
  },
  {
   "cell_type": "markdown",
   "metadata": {
    "deletable": false,
    "editable": false
   },
   "source": [
    "### Exercício 1\n",
    "\n",
    "Obtenha o quantil de ordem $p=0,45$ para a variável **idade (em anos)**."
   ]
  },
  {
   "cell_type": "code",
   "execution_count": null,
   "metadata": {},
   "outputs": [],
   "source": []
  },
  {
   "cell_type": "code",
   "execution_count": null,
   "metadata": {},
   "outputs": [],
   "source": []
  },
  {
   "cell_type": "code",
   "execution_count": null,
   "metadata": {},
   "outputs": [],
   "source": []
  },
  {
   "cell_type": "markdown",
   "metadata": {
    "deletable": false,
    "editable": false
   },
   "source": [
    "## 3) Gráficos de Quantis\n",
    "\n",
    "Para obter gráficos de quantis, devemos primeiro criar uma sequência de valores de $p$ no intervalo $[0,1]$ e que serão dispostos no eixo das abscissas do gráfico (eixo $x$). Vamos criar uma sequência de proporções que começa em $0$ e termina em $1$, com saltos de tamanho $0,05$ (o tamanho dos saltos fica a critério do usuário). Essa sequência será armazenada num objeto chamado ```props``` para uso posterior. Execute a célula a seguir:"
   ]
  },
  {
   "cell_type": "code",
   "execution_count": null,
   "metadata": {
    "deletable": false,
    "editable": false
   },
   "outputs": [],
   "source": [
    "props = seq(0,1,0.05)\n",
    "props"
   ]
  },
  {
   "cell_type": "markdown",
   "metadata": {
    "deletable": false,
    "editable": false
   },
   "source": [
    "Note que se usarmos a função ```quantile``` em uma variável informando todas essas proporções, o R irá calcular todos os quantis com essas ordens. Por exemplo, o comando a seguir que irá calcular todos os quantis com ordens armazenadas no objeto ```props``` para a variável **salário** da tabela 2.1. Vamos armazenar os resultados num objeto chamado ```quant```. Execute a célula a seguir:"
   ]
  },
  {
   "cell_type": "code",
   "execution_count": null,
   "metadata": {
    "deletable": false,
    "editable": false
   },
   "outputs": [],
   "source": [
    "quant = quantile(salario, props)\n",
    "quant"
   ]
  },
  {
   "cell_type": "markdown",
   "metadata": {
    "deletable": false,
    "editable": false
   },
   "source": [
    "Agora, por meio da função ```plot()```, podemos inserir a sequência de proporções no eixo $x$ e os quantis correspondentes no eixo $y$, obtendo assim um gráfico de quantis para a variável **salário**. Execute a célula a seguir:"
   ]
  },
  {
   "cell_type": "code",
   "execution_count": null,
   "metadata": {
    "deletable": false,
    "editable": false
   },
   "outputs": [],
   "source": [
    "plot(props, quant)"
   ]
  },
  {
   "cell_type": "markdown",
   "metadata": {
    "deletable": false,
    "editable": false
   },
   "source": [
    "### Exercício 2\n",
    "\n",
    "Faça um gráfico de quantil para a variável **idade (em anos)**"
   ]
  },
  {
   "cell_type": "code",
   "execution_count": null,
   "metadata": {},
   "outputs": [],
   "source": []
  },
  {
   "cell_type": "code",
   "execution_count": null,
   "metadata": {},
   "outputs": [],
   "source": []
  },
  {
   "cell_type": "code",
   "execution_count": null,
   "metadata": {},
   "outputs": [],
   "source": []
  },
  {
   "cell_type": "markdown",
   "metadata": {
    "deletable": false,
    "editable": false
   },
   "source": [
    "## 4) Box plot\n",
    "Como na construção do histograma, o R fornece uma função simples para obtenção do **box plot**. Trata-se da função ```boxplot()```. Vamos construir um box plot para a variável **salário**. Execute as células a seguir:"
   ]
  },
  {
   "cell_type": "code",
   "execution_count": null,
   "metadata": {
    "deletable": false,
    "editable": false
   },
   "outputs": [],
   "source": [
    "boxplot(salario)                    # box plot tradicional na vertical"
   ]
  },
  {
   "cell_type": "code",
   "execution_count": null,
   "metadata": {
    "deletable": false,
    "editable": false
   },
   "outputs": [],
   "source": [
    "boxplot(salario, horizontal = TRUE) # box plot na horizontal"
   ]
  },
  {
   "cell_type": "markdown",
   "metadata": {
    "deletable": false,
    "editable": false
   },
   "source": [
    "O conjunto de dados a seguir apresenta as populações (em 10 mil habitantes) dos 30 municípios mais populosos do Brasil segundo um levantamento do IBGE em 1996. Vamos obter um boxplot parecido com o que foi obtido em aula, mas desta vez considerando todos os 30 municípios."
   ]
  },
  {
   "cell_type": "code",
   "execution_count": null,
   "metadata": {
    "deletable": false,
    "editable": false
   },
   "outputs": [],
   "source": [
    "attach(cd_municipios) # esses dados fazem parte dos dados de Bussab & Morettin carregados anteriormente.\n",
    "cd_municipios         # visualização dos dados"
   ]
  },
  {
   "cell_type": "code",
   "execution_count": null,
   "metadata": {
    "deletable": false,
    "editable": false
   },
   "outputs": [],
   "source": [
    "boxplot(populacao)"
   ]
  },
  {
   "cell_type": "markdown",
   "metadata": {
    "deletable": false,
    "editable": false
   },
   "source": [
    "### Exercício 3\n",
    "\n",
    "Obtenha os box plots para as variáveis **número de filhos** e **idade em anos**."
   ]
  },
  {
   "cell_type": "code",
   "execution_count": null,
   "metadata": {},
   "outputs": [],
   "source": []
  },
  {
   "cell_type": "code",
   "execution_count": null,
   "metadata": {},
   "outputs": [],
   "source": []
  },
  {
   "cell_type": "code",
   "execution_count": null,
   "metadata": {},
   "outputs": [],
   "source": []
  }
 ],
 "metadata": {
  "kernelspec": {
   "display_name": "R",
   "language": "R",
   "name": "ir"
  },
  "language_info": {
   "codemirror_mode": "r",
   "file_extension": ".r",
   "mimetype": "text/x-r-source",
   "name": "R",
   "pygments_lexer": "r",
   "version": "3.6.1"
  }
 },
 "nbformat": 4,
 "nbformat_minor": 4
}
