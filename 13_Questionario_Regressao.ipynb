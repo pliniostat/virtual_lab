{
 "cells": [
  {
   "cell_type": "markdown",
   "id": "figured-order",
   "metadata": {
    "deletable": false,
    "editable": false
   },
   "source": [
    "<a href=\"http://www.unioeste.br\"><img src=\"https://www5.unioeste.br/portalunioeste/templates/tlpcampus/images/logoUnioeste.png\" align=\"right\"></a>\n",
    "\n",
    "<h1><center>Regressão Linear Simples (Questionário)</center></h1>\n",
    "\n",
    "\n",
    "\n",
    "***\n",
    "<b> <font color='red'>ATENÇÃO!</font></b> sempre que este notebook for reaberto, você deverá executar todas as células de código novamente. Cada célula **ativa** é executada pressionando o botão <b>Run</b> no menu da parte superior da tela, ou teclando <b>Ctrl+Enter</b>. Caso esteja utilizando um smartphone ou tablet, cada célula terá um botão ao lado para ser executada. Persistindo dúvidas, assista novamente o video de apresentação sobre notebooks.\n",
    "\n",
    "Caso necessite criar mais células de código, basta ir ao menu Insert.\n",
    "***\n",
    "\n",
    "### Imóveis negociados no Condado de Dutchess\n",
    "\n",
    "Os dados a seguir apresentam algumas características de casas negociadas no Condado de Dutchess no estado de Nova Iorque. São elas:\n",
    "\n",
    "* **PV**: preço de venda (em milhares de dólares);\n",
    "* **PL**: preço de lista ou tabela (em milhares de dólares);\n",
    "* **AU**: área útil ou área construída (em pés quadrados);\n",
    "* **NC**: nº de cômodos;\n",
    "* **NQ**: nº de quartos;\n",
    "* **NB**: nº de banheiros;\n",
    "* **ID**: idade do imóvel;\n",
    "* **AT**: área do terreno (em acres);\n",
    "* **TX**: taxas ou impostos sobre a venda.\n",
    "\n",
    "Execute a célula a seguir para carregar e preparar os dados:"
   ]
  },
  {
   "cell_type": "code",
   "execution_count": null,
   "id": "forced-pepper",
   "metadata": {
    "deletable": false,
    "editable": false
   },
   "outputs": [],
   "source": [
    "dados = read.table(\"imoveis.csv\", header = TRUE, dec = \",\", sep = \";\")\n",
    "attach(dados)\n",
    "dados"
   ]
  },
  {
   "cell_type": "code",
   "execution_count": null,
   "id": "operating-novelty",
   "metadata": {},
   "outputs": [],
   "source": []
  },
  {
   "cell_type": "code",
   "execution_count": null,
   "id": "desperate-profile",
   "metadata": {},
   "outputs": [],
   "source": []
  },
  {
   "cell_type": "code",
   "execution_count": null,
   "id": "agricultural-punishment",
   "metadata": {},
   "outputs": [],
   "source": []
  },
  {
   "cell_type": "code",
   "execution_count": null,
   "id": "skilled-harvest",
   "metadata": {},
   "outputs": [],
   "source": []
  },
  {
   "cell_type": "code",
   "execution_count": null,
   "id": "brutal-collapse",
   "metadata": {},
   "outputs": [],
   "source": []
  },
  {
   "cell_type": "markdown",
   "id": "extensive-porter",
   "metadata": {
    "deletable": false,
    "editable": false
   },
   "source": [
    "### Dados climáticos dos EUA\n",
    "\n",
    "Os dados a seguir apresentam dados climáticos em graus Fahrenheit num dado ano em um dado local dos Estados Unidos:\n",
    "\n",
    "* data da coleta (01 de janeiro a 31 de janeiro);\n",
    "* **maxima_real**: temperatura máxima real registrada;\n",
    "* **maxima_prev_1**: temperatura máxima prevista com 1 dia;\n",
    "* **maxima_prev_3**: temperatura máxima prevista com 3 dias;\n",
    "* **maxima_prev_5**: temperatura máxima prevista com 5 dias;\n",
    "* **precipitacao**: volume de chuva registrado no dia (em polegadas).\n",
    "\n",
    "Execute a célula a seguir para carregar e preparar os dados:"
   ]
  },
  {
   "cell_type": "code",
   "execution_count": null,
   "id": "included-reporter",
   "metadata": {
    "deletable": false,
    "editable": false
   },
   "outputs": [],
   "source": [
    "dados2 = read.table(\"clima.csv\", header = TRUE, dec = \",\", sep = \";\")\n",
    "attach(dados2)\n",
    "dados2"
   ]
  },
  {
   "cell_type": "code",
   "execution_count": null,
   "id": "interested-record",
   "metadata": {},
   "outputs": [],
   "source": []
  },
  {
   "cell_type": "code",
   "execution_count": null,
   "id": "arbitrary-collapse",
   "metadata": {},
   "outputs": [],
   "source": []
  },
  {
   "cell_type": "code",
   "execution_count": null,
   "id": "directed-cholesterol",
   "metadata": {},
   "outputs": [],
   "source": []
  },
  {
   "cell_type": "code",
   "execution_count": null,
   "id": "applicable-deviation",
   "metadata": {},
   "outputs": [],
   "source": []
  },
  {
   "cell_type": "code",
   "execution_count": null,
   "id": "lesser-basketball",
   "metadata": {},
   "outputs": [],
   "source": []
  }
 ],
 "metadata": {
  "kernelspec": {
   "display_name": "R",
   "language": "R",
   "name": "ir"
  },
  "language_info": {
   "codemirror_mode": "r",
   "file_extension": ".r",
   "mimetype": "text/x-r-source",
   "name": "R",
   "pygments_lexer": "r",
   "version": "3.6.1"
  }
 },
 "nbformat": 4,
 "nbformat_minor": 5
}
