{
 "cells": [
  {
   "cell_type": "markdown",
   "metadata": {
    "deletable": false,
    "editable": false
   },
   "source": [
    "<a href=\"http://www.unioeste.br\"><img src=\"https://www5.unioeste.br/portalunioeste/templates/tlpcampus/images/logoUnioeste.png\" align=\"right\"></a>\n",
    "\n",
    "<h1><center>Atividade Prática em R - Representações Gráficas</center></h1>\n",
    "\n",
    "<center>Prof.Dr. Plinio Andrade</center>\n",
    "\n",
    "Nesta atividade prática você aprenderá a utilizar o R para obter:\n",
    "\n",
    "* diagramas de setores;\n",
    "* gráficos de barras;\n",
    "* histogramas;\n",
    "* gráficos de série temporal.\n",
    "\n",
    "<b> <font color='red'>ATENÇÃO!</font></b> sempre que este arquivo for reaberto você deverá executar todas as células de código novamente. Cada célula ativa é executada pressionando o botão <b>Run</b> no menu ou teclando <b>Ctrl+Enter</b>.\n",
    "\n",
    "Caso necessite criar mais células de código, basta ir ao menu Insert.\n",
    "\n",
    "***\n",
    "\n",
    "## 1) Sobre os dados\n",
    "\n",
    "Novamente, utilizaremos nesta prática os dados de Bussab & Morettin (2006). Vamos armazená-los na memória executando a célula a seguir:"
   ]
  },
  {
   "cell_type": "code",
   "execution_count": null,
   "metadata": {
    "deletable": false,
    "editable": false
   },
   "outputs": [],
   "source": [
    "arquivo = url('https://www.ime.usp.br/~pam/dados.RData') # armazenamos o endereço eletrônico numa variável chamada arquivo\n",
    "load(arquivo)                                            # carregando o arquivo\n",
    "attach(tab2_1)                                           # acessando as variáveis"
   ]
  },
  {
   "cell_type": "markdown",
   "metadata": {
    "deletable": false,
    "editable": false
   },
   "source": [
    "## 2) Representações Gráficas\n",
    "Vamos conhecer agora algumas funções para represendar dados graficamente. Utilizaremos os mesmos exemplos apresentados em aula.\n",
    "\n",
    "### 2.1) Diagrama de setores (pizza)\n",
    "Para esse tipo de gráfico, devemos coletar as frequências (absolutas, relativas, ou porcentagens) da variável de interesse e utilizar a função ```pie()```. Vamos considerar a variável **grau de instrução**. Execute a célula a seguir:"
   ]
  },
  {
   "cell_type": "code",
   "execution_count": null,
   "metadata": {
    "deletable": false,
    "editable": false
   },
   "outputs": [],
   "source": [
    "ni = table(grau_instrucao) # armazenando as frequências absolutas da variável grau de instrução num objeto \"ni\"\n",
    "pie(ni)                    # obtendo o gráfico "
   ]
  },
  {
   "cell_type": "code",
   "execution_count": null,
   "metadata": {
    "deletable": false,
    "editable": false
   },
   "outputs": [],
   "source": [
    "pie(table(grau_instrucao)) # comando alternativo (mais direto)"
   ]
  },
  {
   "cell_type": "markdown",
   "metadata": {
    "deletable": false,
    "editable": false
   },
   "source": [
    "Segue uma versão com alguma formatação:"
   ]
  },
  {
   "cell_type": "code",
   "execution_count": null,
   "metadata": {
    "deletable": false,
    "editable": false
   },
   "outputs": [],
   "source": [
    "pie(ni, col = c(\"red\",\"blue\",\"green\"), labels = c(\"fundamental\", \"médio\", \"superior\"), main = \"Gráfico de setores para grau de instrução\")"
   ]
  },
  {
   "cell_type": "markdown",
   "metadata": {
    "deletable": false,
    "editable": false
   },
   "source": [
    "### Exercício 1\n",
    "Obtenha um gráfico de pizza simples ou detalhado para a variável **região de procedência**."
   ]
  },
  {
   "cell_type": "code",
   "execution_count": null,
   "metadata": {},
   "outputs": [],
   "source": []
  },
  {
   "cell_type": "code",
   "execution_count": null,
   "metadata": {},
   "outputs": [],
   "source": []
  },
  {
   "cell_type": "code",
   "execution_count": null,
   "metadata": {},
   "outputs": [],
   "source": []
  },
  {
   "cell_type": "markdown",
   "metadata": {
    "deletable": false,
    "editable": false
   },
   "source": [
    "### 2.2) Gráfico de Barras\n",
    "Para construir um gráfico de barras no R devemos utilizar a função ```barplot()```. O argumento da função receberá novamente as frequências da variável em estudo. Considere novamente a variável **grau de instrução** (lembre-se que as frequências absolutas já foram armazenadas num objeto \"ni\" quando o gráfico de pizza foi construído). Execute a célula a seguir:"
   ]
  },
  {
   "cell_type": "code",
   "execution_count": null,
   "metadata": {
    "deletable": false,
    "editable": false
   },
   "outputs": [],
   "source": [
    "barplot(ni)"
   ]
  },
  {
   "cell_type": "markdown",
   "metadata": {
    "deletable": false,
    "editable": false
   },
   "source": [
    "Este gráfico pode ser disposto na horizontal com o argumento ```horiz = TRUE```. Execute a célula a seguir:"
   ]
  },
  {
   "cell_type": "code",
   "execution_count": null,
   "metadata": {
    "deletable": false,
    "editable": false
   },
   "outputs": [],
   "source": [
    "barplot(ni, horiz = TRUE)"
   ]
  },
  {
   "cell_type": "markdown",
   "metadata": {
    "deletable": false,
    "editable": false
   },
   "source": [
    "Segue uma versão com alguma formatação:"
   ]
  },
  {
   "cell_type": "code",
   "execution_count": null,
   "metadata": {
    "deletable": false,
    "editable": false
   },
   "outputs": [],
   "source": [
    "barplot(ni, col = c(\"red\",\"blue\",\"green\"), names = c(\"fundamental\", \"médio\", \"superior\"), main = \"Gráfico de barras de grau de instrução\")"
   ]
  },
  {
   "cell_type": "markdown",
   "metadata": {
    "deletable": false,
    "editable": false
   },
   "source": [
    "Vamos agora construir um gráfico de barras para a variável **salário**. Lembre-se que neste caso devemos construir os intervalos de classe (como vimos no roteiro anterior):"
   ]
  },
  {
   "cell_type": "code",
   "execution_count": null,
   "metadata": {
    "deletable": false,
    "editable": false
   },
   "outputs": [],
   "source": [
    "int = cut(salario, c(4,8,12,16,20,24), right=FALSE) # criando os intervalos de classe\n",
    "sal = table(int)                                    # criando a distribuição de frequências de cada faixa salarial\n",
    "barplot(sal)                                        # imprimindo o gráfico de barras"
   ]
  },
  {
   "cell_type": "markdown",
   "metadata": {
    "deletable": false,
    "editable": false
   },
   "source": [
    "### Exercício 2\n",
    "Construa um gráfico de barras para as variáveis **número de filhos**. Compare com o apresentado em aula."
   ]
  },
  {
   "cell_type": "code",
   "execution_count": null,
   "metadata": {},
   "outputs": [],
   "source": []
  },
  {
   "cell_type": "code",
   "execution_count": null,
   "metadata": {},
   "outputs": [],
   "source": []
  },
  {
   "cell_type": "code",
   "execution_count": null,
   "metadata": {},
   "outputs": [],
   "source": []
  },
  {
   "cell_type": "markdown",
   "metadata": {
    "deletable": false,
    "editable": false
   },
   "source": [
    "### Exemplo (dados que já se encontram como uma tabela de frequências).\n",
    "\n",
    "Os dados a seguir apresentam o número acumulado de casos confirmados e mortes por COVID-19 nos estados brasileiros (e o distrito federal) até o dia 16/06/2021 (dados obtidos no site Brasil.IO - https://brasil.io/datasets). Os dados também informam a região do país onde cada estado se encontra. Note que a tabela já está num formato de uma tabela de distribuição de frequências (absolutas)."
   ]
  },
  {
   "cell_type": "code",
   "execution_count": null,
   "metadata": {
    "deletable": false,
    "editable": false
   },
   "outputs": [],
   "source": [
    "dados = read.table(\"covid_estados.csv\", header = TRUE, sep = \",\")\n",
    "attach(dados)\n",
    "dados"
   ]
  },
  {
   "cell_type": "markdown",
   "metadata": {
    "deletable": false,
    "editable": false
   },
   "source": [
    "Neste caso, a função ```barplot()``` ou a função ```pie()``` retornarão os gráficos corretamente, mas sem especificar os rótulos. Observe a seguir:"
   ]
  },
  {
   "cell_type": "code",
   "execution_count": null,
   "metadata": {
    "deletable": false,
    "editable": false
   },
   "outputs": [],
   "source": [
    "par(mfrow = c(1,2)) # inserindo dois gráficos em uma única janela (1 linha, 2 colunas)\n",
    "barplot(mortes)\n",
    "pie(mortes)"
   ]
  },
  {
   "cell_type": "markdown",
   "metadata": {
    "deletable": false,
    "editable": false
   },
   "source": [
    "O código ```names(obj1) = obj2``` pega cada valor do argumento ```obj1``` e atribui um nome correspondente armazenado no objeto ```obj2```. Para os dados do exemplo, podemos rotular cada frequência (casos confirmados ou mortes) pelo seu estado correspondente. Execute as células a seguir: "
   ]
  },
  {
   "cell_type": "code",
   "execution_count": null,
   "metadata": {
    "deletable": false,
    "editable": false
   },
   "outputs": [],
   "source": [
    "names(mortes)      = estados\n",
    "names(confirmados) = estados"
   ]
  },
  {
   "cell_type": "code",
   "execution_count": null,
   "metadata": {
    "deletable": false,
    "editable": false
   },
   "outputs": [],
   "source": [
    "mortes # visualizando os dados de mortes agora rotulados."
   ]
  },
  {
   "cell_type": "markdown",
   "metadata": {
    "deletable": false,
    "editable": false
   },
   "source": [
    "Note agora que o gráfico de barras estará devidamente rotulado (uma visualização melhor pode ser obtida diretamente no software R ou RStudio)."
   ]
  },
  {
   "cell_type": "code",
   "execution_count": null,
   "metadata": {
    "deletable": false,
    "editable": false
   },
   "outputs": [],
   "source": [
    "barplot(mortes)"
   ]
  },
  {
   "cell_type": "markdown",
   "metadata": {
    "deletable": false,
    "editable": false
   },
   "source": [
    "Faça o mesmo para o número de casos confirmados, bem como seus respectivos gráficos de setores. Pelo fato de termos 26 estados e o distrito federal, a visualização por meio de um gráfico de setores não é muito agradável. Uma alternativa pode ser visualizar o número de mortes (ou casos confirmados) para cada região do Brasil. Por exemplo:"
   ]
  },
  {
   "cell_type": "code",
   "execution_count": null,
   "metadata": {
    "deletable": false,
    "editable": false
   },
   "outputs": [],
   "source": [
    "regiao # visualizando o vetor de dados da variável região"
   ]
  },
  {
   "cell_type": "code",
   "execution_count": null,
   "metadata": {
    "deletable": false,
    "editable": false
   },
   "outputs": [],
   "source": [
    "regiao == \"Sul\" # teste lógico para verificar quais valores da variável região é igual a \"Sul\""
   ]
  },
  {
   "cell_type": "code",
   "execution_count": null,
   "metadata": {
    "deletable": false,
    "editable": false
   },
   "outputs": [],
   "source": [
    "mortes[regiao == \"Sul\"] # apresenta o número de mortos da região Sul"
   ]
  },
  {
   "cell_type": "code",
   "execution_count": null,
   "metadata": {
    "deletable": false,
    "editable": false
   },
   "outputs": [],
   "source": [
    "pie(mortes[regiao == \"Sul\"]) # diagrama de setores correspondente"
   ]
  },
  {
   "cell_type": "code",
   "execution_count": null,
   "metadata": {
    "deletable": false,
    "editable": false
   },
   "outputs": [],
   "source": [
    "# Versão mais detalhada\n",
    "msul      = mortes[regiao == \"Sul\"]        # mortes da região \"Sul\"\n",
    "msul_porc = round((msul/sum(msul))*100,2)  # porcentagens com 1 casa decimal\n",
    "\n",
    "# plotando o gráfico\n",
    "pie(msul_porc, labels = paste(names(msul),\" (\", as.character(msul_porc),\"%)\", sep = \"\"),\n",
    "    main = \"Versão detalhada (formatada)\",\n",
    "    col = c(\"red\",\"blue\",\"green\"))"
   ]
  },
  {
   "cell_type": "code",
   "execution_count": null,
   "metadata": {
    "deletable": false,
    "editable": false
   },
   "outputs": [],
   "source": [
    "barplot(mortes[regiao == \"Sul\"])"
   ]
  },
  {
   "cell_type": "code",
   "execution_count": null,
   "metadata": {
    "deletable": false,
    "editable": false
   },
   "outputs": [],
   "source": [
    "# Versão mais detalhada, aproveitando o vetor de dados msul_porc criado anteriormente\n",
    "barplot(msul_porc, main = \"Versão detalhada (formatada)\",\n",
    "        ylab = \"Frequência relativa em %\",\n",
    "        xlab = \"Estados da região sul\",\n",
    "        col = c(\"red\",\"blue\",\"green\"))"
   ]
  },
  {
   "cell_type": "markdown",
   "metadata": {
    "deletable": false,
    "editable": false
   },
   "source": [
    "Outra possível visualização consiste em contar o acumulado de mortes (ou casos confirmados) por região. A função ```sum()``` serve para somar os elementos de um vetor de dados. Por exemplo:"
   ]
  },
  {
   "cell_type": "code",
   "execution_count": null,
   "metadata": {
    "deletable": false,
    "editable": false
   },
   "outputs": [],
   "source": [
    "sum(mortes[regiao == \"Sul\"]) # soma o número de mortes na região Sul"
   ]
  },
  {
   "attachments": {
    "image-3.png": {
     "image/png": "[encoded data removed]"
    }
   },
   "cell_type": "markdown",
   "metadata": {
    "deletable": false,
    "editable": false
   },
   "source": [
    "Procedendo de maneira análoga para as demais regiões, podemos obter a seguinte tabela de distribuição de frequências:\n",
    "\n",
    "![image-3.png](attachment:image-3.png)\n",
    "\n",
    "Você consegue facilmente fazer um gráfico de barras ou de setores utilizando a tabela acima, seja manualmente ou por meio do Excel. Segue um código em R (que não utiliza recursos muito avançados):"
   ]
  },
  {
   "cell_type": "code",
   "execution_count": null,
   "metadata": {
    "deletable": false,
    "editable": false
   },
   "outputs": [],
   "source": [
    "# Somando as mortes por região\n",
    "soma_CO = sum(mortes[regiao == \"Centro-Oeste\"])\n",
    "soma_NE = sum(mortes[regiao == \"Nordeste\"])\n",
    "soma_N  = sum(mortes[regiao == \"Norte\"]) \n",
    "soma_SE = sum(mortes[regiao == \"Sudeste\"]) \n",
    "soma_S  = sum(mortes[regiao == \"Sul\"])\n",
    "\n",
    "# Criando os dados de mortes por região\n",
    "mortes_reg = c(soma_CO, soma_NE, soma_N, soma_SE, soma_S)\n",
    "\n",
    "# Rotulando\n",
    "names(mortes_reg) = levels(regiao)\n",
    "\n",
    "# Visualizando\n",
    "mortes_reg"
   ]
  },
  {
   "cell_type": "code",
   "execution_count": null,
   "metadata": {
    "deletable": false,
    "editable": false
   },
   "outputs": [],
   "source": [
    "pie(mortes_reg)"
   ]
  },
  {
   "cell_type": "code",
   "execution_count": null,
   "metadata": {
    "deletable": false,
    "editable": false
   },
   "outputs": [],
   "source": [
    "barplot(mortes_reg)"
   ]
  },
  {
   "cell_type": "markdown",
   "metadata": {
    "deletable": false,
    "editable": false
   },
   "source": [
    "### 2.3) Histogramas\n",
    "A construção de histogramas é muito simples e direta no R. A escolha dos intervalos de classe é automática (o padrão utiliza a regra de Sturges vista em aula), embora seja possível escolher arbitrariamente se necessário. Vamos construir um histograma para a variável **salário** considerando suas versões em frequência absoluta e relativa. Vamos também construir uma versão com os mesmos intervalos de classe que foram escolhidos na aula.\n",
    "\n",
    "### (i) Histograma com densidade de frequência absoluta (padrão)\n",
    "Um histograma é construído por meio da função ```hist()```. Em sua forma mais simples, basta informar o rótulo da variável quantitativa desejada. Execute a célula a seguir:"
   ]
  },
  {
   "cell_type": "code",
   "execution_count": null,
   "metadata": {
    "deletable": false,
    "editable": false
   },
   "outputs": [],
   "source": [
    "hist(salario)"
   ]
  },
  {
   "cell_type": "markdown",
   "metadata": {
    "deletable": false,
    "editable": false
   },
   "source": [
    "### (ii) Histograma com densidade de frequência relativa\n",
    "\n",
    "Neste caso, devemos informar também o argumento ```freq = FALSE```. Execute a célula a seguir e observe o que acontecerá com o eixo vertical (y):"
   ]
  },
  {
   "cell_type": "code",
   "execution_count": null,
   "metadata": {
    "deletable": false,
    "editable": false
   },
   "outputs": [],
   "source": [
    "hist(salario, freq = FALSE)"
   ]
  },
  {
   "cell_type": "markdown",
   "metadata": {
    "deletable": false,
    "editable": false
   },
   "source": [
    "### (iii) Histograma com intervalos de classe arbitrários\n",
    "\n",
    "Neste caso devemos informar o argumento ```breaks```, seja para obter um histograma com densidade de frequência absoluta ou relativa.  Os extremos de cada intervalo de classe devem ser especificados. Execute a célula a seguir para obter o mesmo histograma apresentado em aula para variável **salário** (para não complicar demais, os eixos não estão com a mesma formatação dos slides e nenhuma cor foi aplicada, mas trata-se do mesmo histograma):"
   ]
  },
  {
   "cell_type": "code",
   "execution_count": null,
   "metadata": {
    "deletable": false,
    "editable": false
   },
   "outputs": [],
   "source": [
    "hist(salario, freq = FALSE, breaks = c(4,8,12,16,20,24))"
   ]
  },
  {
   "cell_type": "markdown",
   "metadata": {
    "deletable": false,
    "editable": false
   },
   "source": [
    "### Exercício 3\n",
    "Obtenha um histograma para a variável **número de filhos**."
   ]
  },
  {
   "cell_type": "code",
   "execution_count": null,
   "metadata": {},
   "outputs": [],
   "source": []
  },
  {
   "cell_type": "code",
   "execution_count": null,
   "metadata": {},
   "outputs": [],
   "source": []
  },
  {
   "cell_type": "code",
   "execution_count": null,
   "metadata": {},
   "outputs": [],
   "source": []
  },
  {
   "cell_type": "markdown",
   "metadata": {
    "deletable": false,
    "editable": false
   },
   "source": [
    "### 2.4) Gráfico de série temporal\n",
    "A função ```plot()``` pode ser utilizada para fazer diversos gráficos, dentre eles, o gráfico de série temporal. No entanto, é mais comum utilizar a função ```plot.ts()``` por ser mais simples (converte automaticamente o vetor de dados em uma série temporal). Vamos obter o gráfico de série temporal para os dados de concentrações de $CO_2$ visto em aula (esse conjunto de dados já vem carregado em qualquer versão instalada do R):"
   ]
  },
  {
   "cell_type": "code",
   "execution_count": null,
   "metadata": {
    "deletable": false,
    "editable": false
   },
   "outputs": [],
   "source": [
    "co2 # visualizando os dados (ignore possíveis avisos de erro)"
   ]
  },
  {
   "cell_type": "code",
   "execution_count": null,
   "metadata": {
    "deletable": false,
    "editable": false
   },
   "outputs": [],
   "source": [
    "plot.ts(co2)"
   ]
  },
  {
   "cell_type": "code",
   "execution_count": null,
   "metadata": {
    "deletable": false,
    "editable": false
   },
   "outputs": [],
   "source": [
    "# versão com alguma formatação\n",
    "plot.ts(co2, xlab = \"Tempo (anos)\", ylab = \"concentração (ppm)\", main = \"Concentrações de CO2 em Mauna Loa\")"
   ]
  },
  {
   "cell_type": "markdown",
   "metadata": {
    "deletable": false,
    "editable": false
   },
   "source": [
    "### Exemplo (Evolução da COVID-19 no Brasil e outros países).\n",
    "\n",
    "Os dados a seguir apresentam a evolução dos casos confirmados e mortes por COVID-19 em todo o mundo. Os dados podem ser manipulados e visualizados em tempo real em https://data.humdata.org/dataset/coronavirus-covid-19-cases-and-deaths. Faremos a leitura dos dados diretamente do site. Execute a célula a seguir:"
   ]
  },
  {
   "cell_type": "code",
   "execution_count": null,
   "metadata": {
    "deletable": false,
    "editable": false
   },
   "outputs": [],
   "source": [
    "path       = url('https://covid19.who.int/WHO-COVID-19-global-data.csv') # armazenamos o endereço eletrônico numa variável chamada path\n",
    "dados_full = read.csv(path, header = TRUE, sep = \",\")                    # carregando o arquivo \n",
    "attach(dados_full)                                                       # acessando as variáveis\n",
    "dados_full                                                               # visualizando"
   ]
  },
  {
   "cell_type": "code",
   "execution_count": null,
   "metadata": {
    "deletable": false,
    "editable": false
   },
   "outputs": [],
   "source": [
    "levels(Country) # visualizando os nomes dos países"
   ]
  },
  {
   "cell_type": "code",
   "execution_count": null,
   "metadata": {
    "deletable": false,
    "editable": false
   },
   "outputs": [],
   "source": [
    "# armazenando as mortes acumuladas por país\n",
    "mortes_bra = Cumulative_deaths[Country == \"Brazil\"]\n",
    "mortes_eua = Cumulative_deaths[Country == \"United States of America\"]\n",
    "mortes_ind = Cumulative_deaths[Country == \"India\"]"
   ]
  },
  {
   "cell_type": "code",
   "execution_count": null,
   "metadata": {
    "deletable": false,
    "editable": false
   },
   "outputs": [],
   "source": [
    "plot.ts(mortes_bra) # gráfico sem formatação para o acumulado de mortes no Brasil"
   ]
  },
  {
   "cell_type": "markdown",
   "metadata": {
    "deletable": false,
    "editable": false
   },
   "source": [
    "A função ```lines()``` adiciona um gráfico de linhas semelhante ao gráfico de série temporal à um gráfico previamente criado. Isso viabiliza a comparação de duas ou mais séries de temporais. Observe como isso pode ser feito na célula a seguir:"
   ]
  },
  {
   "cell_type": "code",
   "execution_count": null,
   "metadata": {
    "deletable": false,
    "editable": false
   },
   "outputs": [],
   "source": [
    "plot.ts(mortes_eua/1000, col = \"blue\", xlab = \"tempo (de 03/01/2020 até a última atualização)\", ylab = \"mortes (em milhares)\")\n",
    "lines(mortes_bra/1000, col = \"green\")\n",
    "lines(mortes_ind/1000, col = \"yellow\")"
   ]
  },
  {
   "cell_type": "markdown",
   "metadata": {
    "deletable": false,
    "editable": false
   },
   "source": [
    "### Exercício 4\n",
    "Obtenha um gráfico de série temporal para os novos casos (**new_cases**) de COVID-19 no Brasil. A formatação é opcional."
   ]
  },
  {
   "cell_type": "code",
   "execution_count": null,
   "metadata": {},
   "outputs": [],
   "source": []
  },
  {
   "cell_type": "code",
   "execution_count": null,
   "metadata": {},
   "outputs": [],
   "source": []
  },
  {
   "cell_type": "code",
   "execution_count": null,
   "metadata": {},
   "outputs": [],
   "source": []
  },
  {
   "cell_type": "markdown",
   "metadata": {
    "deletable": false,
    "editable": false
   },
   "source": [
    "## Até a próxima!"
   ]
  }
 ],
 "metadata": {
  "kernelspec": {
   "display_name": "R",
   "language": "R",
   "name": "ir"
  },
  "language_info": {
   "codemirror_mode": "r",
   "file_extension": ".r",
   "mimetype": "text/x-r-source",
   "name": "R",
   "pygments_lexer": "r",
   "version": "3.6.1"
  }
 },
 "nbformat": 4,
 "nbformat_minor": 4
}
