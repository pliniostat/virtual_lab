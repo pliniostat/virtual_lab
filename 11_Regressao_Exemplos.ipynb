{
 "cells": [
  {
   "cell_type": "markdown",
   "id": "creative-officer",
   "metadata": {},
   "source": [
    "# Exemplos de regressão linear simples\n",
    "\n",
    "### Exemplo 1:\n",
    "\n",
    "Os dados a seguir apresentam as respectivas alturas (em polegadas) de uma amostra de 12 pais e seus filhos mais velhos."
   ]
  },
  {
   "cell_type": "code",
   "execution_count": null,
   "id": "tamil-spare",
   "metadata": {},
   "outputs": [],
   "source": [
    "pai = c(65,63,67,64,68,62,70,66,68,67,69,71)\n",
    "filho = c(68,66,68,65,69,66,68,65,71,67,68,70)"
   ]
  },
  {
   "cell_type": "markdown",
   "id": "patent-pattern",
   "metadata": {},
   "source": [
    "Convertendo os dados de polegadas para metros (**opcional**):"
   ]
  },
  {
   "cell_type": "code",
   "execution_count": null,
   "id": "embedded-programming",
   "metadata": {},
   "outputs": [],
   "source": [
    "pai = pai*0.0254\n",
    "filho = filho*0.0254"
   ]
  },
  {
   "cell_type": "markdown",
   "id": "athletic-norman",
   "metadata": {},
   "source": [
    "Obtendo o gráfico de dispersão:"
   ]
  },
  {
   "cell_type": "code",
   "execution_count": null,
   "id": "corporate-shoulder",
   "metadata": {},
   "outputs": [],
   "source": [
    "plot(pai, filho)"
   ]
  },
  {
   "cell_type": "markdown",
   "id": "final-geography",
   "metadata": {},
   "source": [
    "Avaliando a associação (correlação) linear entre as variáveis:"
   ]
  },
  {
   "cell_type": "code",
   "execution_count": null,
   "id": "automotive-phenomenon",
   "metadata": {},
   "outputs": [],
   "source": [
    "cor.test(pai, filho)"
   ]
  },
  {
   "cell_type": "markdown",
   "id": "alternative-mineral",
   "metadata": {},
   "source": [
    "Como o p-valor (p-value) é de aproximadamente 1%, rejeitamos a hipótese nula de que o verdadeiro coeficiente de correlação linear é zero. O mesmo pode ser concluído pelo intervalo de confiança de 95%, uma vez que o valor zero não está contido neste (rejeita-se a hipótese nula ao nível de significância de 5%). Por fim, temos que o coeficiente de correlação linear de Person é aproximadamente igual a 0,7, ou seja, a correlação entre a altura do pai e a altura do filho mais velho é forte.\n",
    "\n",
    "Ajustando o modelo de regressão linear simples aos dados:"
   ]
  },
  {
   "cell_type": "code",
   "execution_count": null,
   "id": "hollywood-eleven",
   "metadata": {},
   "outputs": [],
   "source": [
    "fit = lm(filho ~ pai)"
   ]
  },
  {
   "cell_type": "markdown",
   "id": "honey-tobacco",
   "metadata": {},
   "source": [
    "Exibindo os parâmetros $\\beta_0$ e $\\beta_1$ estimados:"
   ]
  },
  {
   "cell_type": "code",
   "execution_count": null,
   "id": "partial-entry",
   "metadata": {},
   "outputs": [],
   "source": [
    "fit"
   ]
  },
  {
   "cell_type": "markdown",
   "id": "elect-services",
   "metadata": {},
   "source": [
    "Logo, temos que $\\beta_0 = 0,9100$ e $\\beta_1 = 0,4764$ e o modelo fica dado por:\n",
    "\n",
    "$$\\hat{y}=0,9100+0,4764x$$\n",
    "\n",
    "O gráfico do ajuste pode ser feito da seguinte maneira:"
   ]
  },
  {
   "cell_type": "code",
   "execution_count": null,
   "id": "swedish-vault",
   "metadata": {},
   "outputs": [],
   "source": [
    "plot(pai,filho)\n",
    "abline(fit)"
   ]
  },
  {
   "cell_type": "markdown",
   "id": "arbitrary-patent",
   "metadata": {},
   "source": [
    "Para um pai com 1,75m de altura, o modelo prediz a altura do filho por:"
   ]
  },
  {
   "cell_type": "code",
   "execution_count": null,
   "id": "talented-flexibility",
   "metadata": {},
   "outputs": [],
   "source": [
    "predict(fit, data.frame(pai = 1.75))"
   ]
  },
  {
   "cell_type": "markdown",
   "id": "grave-delivery",
   "metadata": {},
   "source": [
    "**Observação:** Para pais com 1,75m de altura, o modelo prediz o mesmo valor para a altura média dos filhos desses pais.\n",
    "\n",
    "Para vários pais com 1,75m de altura, podemos obter um **intervalo de predição** para a futura altura de seus respectivos filhos mais velhos."
   ]
  },
  {
   "cell_type": "code",
   "execution_count": null,
   "id": "beginning-pottery",
   "metadata": {},
   "outputs": [],
   "source": [
    "predict(fit, data.frame(pai = 1.75), interval = 'prediction', level = 0.95)"
   ]
  },
  {
   "cell_type": "markdown",
   "id": "large-finnish",
   "metadata": {},
   "source": [
    "Logo, não sabemos dizer qual será a altura exata de filhos de pais com 1,75m de altura mas, seguindo o modelo linear ajustado, temos 95% de confiança de que as alturas de seus filhos mais velhos estarão no intervalo (1,66m; 1,83m).\n",
    "\n",
    "Por outro lado, temos que a altura média do filhos mais velhos cujos pais possuem 1,75m de altura é dado pelo seguinte **intervalo de confiança**:"
   ]
  },
  {
   "cell_type": "code",
   "execution_count": null,
   "id": "upper-outline",
   "metadata": {},
   "outputs": [],
   "source": [
    "predict(fit, data.frame(pai = 1.75), interval = 'confidence')"
   ]
  },
  {
   "cell_type": "markdown",
   "id": "ranging-produce",
   "metadata": {},
   "source": [
    "Assim, não sabemos qual é a altura média dos filhos mais velhos de pais com 1,75m de altura, mas temos 95% de confiança de que tal altura média está no intervalo (1,71m; 1,77m).\n",
    "\n",
    "Vamos agora conduzir um diagnóstico do ajuste. **Observação:** Lembre-se que esta etapa deve vir antes de qualquer procedimento inferencial.\n",
    "\n",
    "A função ```residuals()``` retorna os resíduos estimados $\\hat{e}_i$, enquanto que a função ```rstandard()``` retorna os resíduos padronizados. A função ```fitted()``` retorna os valores $\\hat{y}_i$ preditos pelo modelo ajustado."
   ]
  },
  {
   "cell_type": "code",
   "execution_count": null,
   "id": "adapted-deviation",
   "metadata": {},
   "outputs": [],
   "source": [
    "residuals(fit)"
   ]
  },
  {
   "cell_type": "code",
   "execution_count": null,
   "id": "designed-pocket",
   "metadata": {},
   "outputs": [],
   "source": [
    "rstandard(fit)"
   ]
  },
  {
   "cell_type": "code",
   "execution_count": null,
   "id": "martial-spokesman",
   "metadata": {},
   "outputs": [],
   "source": [
    "fitted(fit)"
   ]
  },
  {
   "cell_type": "markdown",
   "id": "involved-supplier",
   "metadata": {},
   "source": [
    "Assim, podemos fazer um gráfico de dispersão dos valores ajustados contra seus resíduos estimados (usualmente utiliza-se os resíduos padronizados)."
   ]
  },
  {
   "cell_type": "code",
   "execution_count": null,
   "id": "convinced-interpretation",
   "metadata": {},
   "outputs": [],
   "source": [
    "ajustados <- fitted(fit)\n",
    "p_resid <- rstandard(fit)\n",
    "\n",
    "plot(ajustados, p_resid)"
   ]
  },
  {
   "cell_type": "markdown",
   "id": "persistent-worthy",
   "metadata": {},
   "source": [
    "Nota-se neste gráfico que os pontos ficam dispersos sem nenhum tipo de padrão. Além disso, não se nota a presença de outiliers (valores dos resíduos padronizados acima de 3 ou abaixo de -3). Vamos analisar como os resíduos estão distribuídos."
   ]
  },
  {
   "cell_type": "code",
   "execution_count": null,
   "id": "amber-reserve",
   "metadata": {},
   "outputs": [],
   "source": [
    "qqnorm(p_resid)\n",
    "qqline(p_resid)"
   ]
  },
  {
   "cell_type": "markdown",
   "id": "contrary-sport",
   "metadata": {},
   "source": [
    "Nota-se pelo gráfico de quantís normais que os pontos estão bem concentrados próximos à reta diagonal, um indicativo de normalidade dos resíduos. O teste de normalidade a seguir retorna um p-valor de 0,9354, ou seja, uma evidência muito forte em favor da hipótese nula de que os resíduos possuem distribuição normal."
   ]
  },
  {
   "cell_type": "code",
   "execution_count": null,
   "id": "interim-dance",
   "metadata": {},
   "outputs": [],
   "source": [
    "shapiro.test(p_resid)"
   ]
  },
  {
   "cell_type": "markdown",
   "id": "interior-humanity",
   "metadata": {},
   "source": [
    "Em seguida, vamos verificar se existem pontos de alavanca e/ou influentes. Para isso, utilizaremos o gráfico alavanca versus resíduos."
   ]
  },
  {
   "cell_type": "code",
   "execution_count": null,
   "id": "related-policy",
   "metadata": {},
   "outputs": [],
   "source": [
    "plot(fit, 5)"
   ]
  },
  {
   "cell_type": "markdown",
   "id": "enormous-delhi",
   "metadata": {},
   "source": [
    "O tamanho da amostra é igual a 12, logo, pontos de alavanca são aqueles bem maiores que 4/12 = 0,333..., o que não parece ser o caso aqui. Além disso, não há pontos que ultrapassam o limite definido pela distância de Cook, isto é, não foram detectados pontos influentes.\n",
    "\n",
    "### Exemplo 2:\n",
    "\n",
    "Os dados a seguir foram extraídos do Instituto Brasileiro de Geografia e Estatística (IBGE) e fornecem características socioeconômicas do Brasil entre os anos de 1990 e 2006. As caractériscas são as seguintes:\n",
    "\n",
    "- **PIBCC:** Produto interno bruto da construção civil (em milhões de reais);\n",
    "\n",
    "- **Populacao:** População residente no país;\n",
    "\n",
    "- **PIBBR:** Produto interno bruto brasileiro (em milhões de reais).\n",
    "\n",
    "Lembrando que o produto interno bruto representa a soma de todos os bens e serviços finais produzidos numa determinada região, durante um período determinado. O PIB é um dos indicadores mais utilizados na macroeconomia com o objetivo de quantificar a atividade econômica de uma região (**fonte:** Wikipédia)."
   ]
  },
  {
   "cell_type": "code",
   "execution_count": null,
   "id": "arabic-architecture",
   "metadata": {},
   "outputs": [],
   "source": [
    "pib = read.table(\"pib.csv\", header = TRUE, dec = \",\", sep = \";\")\n",
    "attach(pib) # para acessar as variáveis pelos seus respectivos rótulos\n",
    "pib"
   ]
  },
  {
   "cell_type": "code",
   "execution_count": null,
   "id": "interested-assumption",
   "metadata": {},
   "outputs": [],
   "source": []
  },
  {
   "cell_type": "code",
   "execution_count": null,
   "id": "floppy-closer",
   "metadata": {},
   "outputs": [],
   "source": []
  },
  {
   "cell_type": "code",
   "execution_count": null,
   "id": "retired-rouge",
   "metadata": {},
   "outputs": [],
   "source": []
  },
  {
   "cell_type": "code",
   "execution_count": null,
   "id": "suitable-groove",
   "metadata": {},
   "outputs": [],
   "source": []
  },
  {
   "cell_type": "markdown",
   "id": "duplicate-mauritius",
   "metadata": {},
   "source": [
    "### Exemplo 3 (Transformação de variáveis):"
   ]
  },
  {
   "cell_type": "code",
   "execution_count": null,
   "id": "alien-router",
   "metadata": {},
   "outputs": [],
   "source": [
    "set.seed(123)\n",
    "x = runif(100,0,20)\n",
    "z = 0.6+0.35*x\n",
    "z = z + rnorm(length(x),0,0.5)\n",
    "y = 0.4*(3^z)"
   ]
  },
  {
   "cell_type": "code",
   "execution_count": null,
   "id": "homeless-demonstration",
   "metadata": {
    "scrolled": true
   },
   "outputs": [],
   "source": [
    "plot(x,y)"
   ]
  },
  {
   "cell_type": "code",
   "execution_count": null,
   "id": "yellow-accent",
   "metadata": {},
   "outputs": [],
   "source": []
  },
  {
   "cell_type": "code",
   "execution_count": null,
   "id": "indonesian-situation",
   "metadata": {},
   "outputs": [],
   "source": []
  },
  {
   "cell_type": "code",
   "execution_count": null,
   "id": "continuing-journalist",
   "metadata": {},
   "outputs": [],
   "source": []
  },
  {
   "cell_type": "code",
   "execution_count": null,
   "id": "martial-environment",
   "metadata": {},
   "outputs": [],
   "source": []
  },
  {
   "attachments": {},
   "cell_type": "markdown",
   "id": "medium-rating",
   "metadata": {},
   "source": [
    "# Exemplo de regressão linear múltipla\n",
    "\n",
    "Dados de investimento em propaganda e retorno em vendas (https://www.kaggle.com/ashydv/advertising-dataset)."
   ]
  },
  {
   "cell_type": "code",
   "execution_count": null,
   "id": "adolescent-territory",
   "metadata": {},
   "outputs": [],
   "source": [
    "dados = read.csv(\"advertising.csv\", header = TRUE, sep = \",\", dec = \".\") # leitura dos dados\n",
    "colnames(dados) = c(\"TV\",\"Rádio\",\"Impresso\",\"Vendas\")                    # mudando os nomes das colunas\n",
    "attach(dados)\n",
    "dados"
   ]
  },
  {
   "cell_type": "code",
   "execution_count": null,
   "id": "waiting-helmet",
   "metadata": {},
   "outputs": [],
   "source": [
    "# Dimensão dos dados\n",
    "dim(dados)"
   ]
  },
  {
   "cell_type": "code",
   "execution_count": null,
   "id": "compatible-israel",
   "metadata": {},
   "outputs": [],
   "source": [
    "ajuste1 = lm(Vendas ~ TV + Rádio + Impresso)\n",
    "ajuste1"
   ]
  },
  {
   "cell_type": "code",
   "execution_count": null,
   "id": "technical-handy",
   "metadata": {},
   "outputs": [],
   "source": [
    "plot(Vendas, predict(ajuste1))\n",
    "abline(0,1)"
   ]
  },
  {
   "cell_type": "code",
   "execution_count": null,
   "id": "general-wings",
   "metadata": {},
   "outputs": [],
   "source": [
    "shapiro.test(residuals(ajuste1))"
   ]
  },
  {
   "cell_type": "code",
   "execution_count": null,
   "id": "configured-buffalo",
   "metadata": {},
   "outputs": [],
   "source": [
    "qqnorm(residuals(ajuste1))\n",
    "qqline(residuals(ajuste1))"
   ]
  },
  {
   "cell_type": "code",
   "execution_count": null,
   "id": "systematic-ethnic",
   "metadata": {},
   "outputs": [],
   "source": [
    "summary(ajuste1)"
   ]
  },
  {
   "cell_type": "code",
   "execution_count": null,
   "id": "fossil-carbon",
   "metadata": {},
   "outputs": [],
   "source": [
    "ajuste2 = lm(Vendas ~ TV + Rádio)"
   ]
  },
  {
   "cell_type": "code",
   "execution_count": null,
   "id": "square-question",
   "metadata": {},
   "outputs": [],
   "source": [
    "summary(ajuste2)"
   ]
  },
  {
   "cell_type": "markdown",
   "id": "varying-future",
   "metadata": {},
   "source": [
    "# Exemplo de regressão polinomial"
   ]
  },
  {
   "cell_type": "code",
   "execution_count": null,
   "id": "delayed-microphone",
   "metadata": {},
   "outputs": [],
   "source": [
    "# geração dos dados\n",
    "f <- function(x)\n",
    "{\n",
    "    45*tanh((x/1.9)-7)+57\n",
    "}\n",
    "\n",
    "n <- 30\n",
    "set.seed(1)\n",
    "x <- runif(n,8,18)\n",
    "y <- f(x)+rnorm(n,0,4)\n",
    "\n",
    "plot(x,y, pch = 16, las = 1, cex.axis = 1.3, cex.lab = 1.3, col = 'purple', xlim=c(8,18),\n",
    "xlab = 'Anos de Educação', ylab = 'Renda Anual')\n",
    "curve(f, lwd = 2, add = TRUE)"
   ]
  },
  {
   "cell_type": "code",
   "execution_count": null,
   "id": "constitutional-reset",
   "metadata": {},
   "outputs": [],
   "source": [
    "fit1 = lm(y ~ x)                                  # regressão linear simples\n",
    "fit2 = lm(y ~ poly(x, degree = 2, raw = TRUE))    # regressão polinomial (grau 2)\n",
    "fit3 = lm(y ~ poly(x, degree = 3, raw = TRUE))    # regressão polinomial (grau 3)"
   ]
  },
  {
   "cell_type": "code",
   "execution_count": null,
   "id": "solid-difference",
   "metadata": {},
   "outputs": [],
   "source": [
    "# gráfico do ajuste linear\n",
    "plot(x,y)\n",
    "abline(fit1)"
   ]
  },
  {
   "cell_type": "code",
   "execution_count": null,
   "id": "consistent-string",
   "metadata": {},
   "outputs": [],
   "source": [
    "# gráfico valores ajustados versus resíduos (variar para fit1, fit2 e fit3)\n",
    "plot(fitted(fit1), rstandard(fit1))"
   ]
  },
  {
   "cell_type": "code",
   "execution_count": null,
   "id": "modified-times",
   "metadata": {},
   "outputs": [],
   "source": [
    "# visualisando os coeficientes do ajuste polinomial de grau 3\n",
    "fit3"
   ]
  },
  {
   "cell_type": "code",
   "execution_count": null,
   "id": "average-prisoner",
   "metadata": {},
   "outputs": [],
   "source": [
    "# função polinomial do ajuste\n",
    "pol = function(x){741.8826 - 190.1372*x + 15.6314*(x^2) - 0.3915*(x^3)}"
   ]
  },
  {
   "cell_type": "code",
   "execution_count": null,
   "id": "alone-adams",
   "metadata": {},
   "outputs": [],
   "source": [
    "# gráfico do ajuste\n",
    "plot(x,y)\n",
    "curve(pol, add = TRUE, col = 'red')"
   ]
  }
 ],
 "metadata": {
  "kernelspec": {
   "display_name": "R",
   "language": "R",
   "name": "ir"
  },
  "language_info": {
   "codemirror_mode": "r",
   "file_extension": ".r",
   "mimetype": "text/x-r-source",
   "name": "R",
   "pygments_lexer": "r",
   "version": "3.6.1"
  }
 },
 "nbformat": 4,
 "nbformat_minor": 5
}
