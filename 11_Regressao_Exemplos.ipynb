{
 "cells": [
  {
   "cell_type": "markdown",
   "id": "creative-officer",
   "metadata": {},
   "source": [
    "# Exemplos de regressão linear simples\n",
    "\n",
    "### Exemplo 1:\n",
    "\n",
    "Os dados a seguir apresentam as respectivas alturas (em polegadas) de uma amostra de 12 pais e seus filhos mais velhos."
   ]
  },
  {
   "cell_type": "code",
   "execution_count": null,
   "id": "tamil-spare",
   "metadata": {},
   "outputs": [],
   "source": [
    "pai = c(65,63,67,64,68,62,70,66,68,67,69,71)\n",
    "filho = c(68,66,68,65,69,66,68,65,71,67,68,70)"
   ]
  },
  {
   "cell_type": "markdown",
   "id": "patent-pattern",
   "metadata": {},
   "source": [
    "Convertendo os dados de polegadas para metros (**opcional**):"
   ]
  },
  {
   "cell_type": "code",
   "execution_count": null,
   "id": "embedded-programming",
   "metadata": {},
   "outputs": [],
   "source": [
    "pai = pai*0.0254\n",
    "filho = filho*0.0254"
   ]
  },
  {
   "cell_type": "markdown",
   "id": "athletic-norman",
   "metadata": {},
   "source": [
    "Obtendo o gráfico de dispersão:"
   ]
  },
  {
   "cell_type": "code",
   "execution_count": null,
   "id": "corporate-shoulder",
   "metadata": {},
   "outputs": [],
   "source": [
    "plot(pai, filho)"
   ]
  },
  {
   "cell_type": "markdown",
   "id": "final-geography",
   "metadata": {},
   "source": [
    "Avaliando a associação (correlação) linear entre as variáveis:"
   ]
  },
  {
   "cell_type": "code",
   "execution_count": null,
   "id": "automotive-phenomenon",
   "metadata": {},
   "outputs": [],
   "source": [
    "cor.test(pai, filho)"
   ]
  },
  {
   "cell_type": "markdown",
   "id": "alternative-mineral",
   "metadata": {},
   "source": [
    "Como o p-valor (p-value) é de aproximadamente 1%, rejeitamos a hipótese nula de que o verdadeiro coeficiente de correlação linear é zero. O mesmo pode ser concluído pelo intervalo de confiança de 95%, uma vez que o valor zero não está contido neste (rejeita-se a hipótese nula ao nível de significância de 5%). Por fim, temos que o coeficiente de correlação linear de Person é aproximadamente igual a 0,7, ou seja, a correlação entre a altura do pai e a altura do filho mais velho é forte.\n",
    "\n",
    "Ajustando o modelo de regressão linear simples aos dados:"
   ]
  },
  {
   "cell_type": "code",
   "execution_count": null,
   "id": "hollywood-eleven",
   "metadata": {},
   "outputs": [],
   "source": [
    "fit = lm(filho ~ pai)"
   ]
  },
  {
   "cell_type": "markdown",
   "id": "honey-tobacco",
   "metadata": {},
   "source": [
    "Exibindo os parâmetros $\\beta_0$ e $\\beta_1$ estimados:"
   ]
  },
  {
   "cell_type": "code",
   "execution_count": null,
   "id": "partial-entry",
   "metadata": {},
   "outputs": [],
   "source": [
    "fit"
   ]
  },
  {
   "cell_type": "markdown",
   "id": "elect-services",
   "metadata": {},
   "source": [
    "Logo, temos que $\\beta_0 = 0,9100$ e $\\beta_1 = 0,4764$ e o modelo fica dado por:\n",
    "\n",
    "$$\\hat{y}=0,9100+0,4764x$$\n",
    "\n",
    "O gráfico do ajuste pode ser feito da seguinte maneira:"
   ]
  },
  {
   "cell_type": "code",
   "execution_count": null,
   "id": "swedish-vault",
   "metadata": {},
   "outputs": [],
   "source": [
    "plot(pai,filho)\n",
    "abline(fit)"
   ]
  },
  {
   "cell_type": "markdown",
   "id": "arbitrary-patent",
   "metadata": {},
   "source": [
    "Para um pai com 1,75m de altura, o modelo prediz a altura do filho por:"
   ]
  },
  {
   "cell_type": "code",
   "execution_count": null,
   "id": "talented-flexibility",
   "metadata": {},
   "outputs": [],
   "source": [
    "predict(fit, data.frame(pai = 1.75))"
   ]
  },
  {
   "cell_type": "markdown",
   "id": "grave-delivery",
   "metadata": {},
   "source": [
    "**Observação:** Para pais com 1,75m de altura, o modelo prediz o mesmo valor para a altura média dos filhos desses pais.\n",
    "\n",
    "Para vários pais com 1,75m de altura, podemos obter um **intervalo de predição** para a futura altura de seus respectivos filhos mais velhos."
   ]
  },
  {
   "cell_type": "code",
   "execution_count": null,
   "id": "beginning-pottery",
   "metadata": {},
   "outputs": [],
   "source": [
    "predict(fit, data.frame(pai = 1.75), interval = 'prediction', level = 0.95)"
   ]
  },
  {
   "cell_type": "markdown",
   "id": "large-finnish",
   "metadata": {},
   "source": [
    "Logo, não sabemos dizer qual será a altura exata de filhos de pais com 1,75m de altura mas, seguindo o modelo linear ajustado, temos 95% de confiança de que as alturas de seus filhos mais velhos estarão no intervalo (1,66m; 1,83m).\n",
    "\n",
    "Por outro lado, temos que a altura média do filhos mais velhos cujos pais possuem 1,75m de altura é dado pelo seguinte **intervalo de confiança**:"
   ]
  },
  {
   "cell_type": "code",
   "execution_count": null,
   "id": "upper-outline",
   "metadata": {},
   "outputs": [],
   "source": [
    "predict(fit, data.frame(pai = 1.75), interval = 'confidence')"
   ]
  },
  {
   "cell_type": "markdown",
   "id": "enormous-delhi",
   "metadata": {},
   "source": [
    "Assim, não sabemos qual é a altura média dos filhos mais velhos de pais com 1,75m de altura, mas temos 95% de confiança de que tal altura média está no intervalo (1,71m; 1,77m).\n",
    "\n",
    "### Exemplo 2:\n",
    "\n",
    "Os dados a seguir foram extraídos do Instituto Brasileiro de Geografia e Estatística (IBGE) e fornecem características socioeconômicas do Brasil entre os anos de 1990 e 2006. As caractériscas são as seguintes:\n",
    "\n",
    "- **PIBCC:** Produto interno bruto da construção civil (em milhões de reais);\n",
    "\n",
    "- **Populacao:** População residente no país;\n",
    "\n",
    "- **PIBBR:** Produto interno bruto brasileiro (em milhões de reais).\n",
    "\n",
    "Lembrando que o produto interno bruto representa a soma de todos os bens e serviços finais produzidos numa determinada região, durante um período determinado. O PIB é um dos indicadores mais utilizados na macroeconomia com o objetivo de quantificar a atividade econômica de uma região (**fonte:** Wikipédia)."
   ]
  },
  {
   "cell_type": "code",
   "execution_count": null,
   "id": "arabic-architecture",
   "metadata": {},
   "outputs": [],
   "source": [
    "pib = read.table(\"pib.csv\", header = TRUE, dec = \",\", sep = \";\")\n",
    "attach(pib) # para acessar as variáveis pelos seus respectivos rótulos\n",
    "pib"
   ]
  },
  {
   "cell_type": "code",
   "execution_count": null,
   "id": "interested-assumption",
   "metadata": {},
   "outputs": [],
   "source": []
  },
  {
   "cell_type": "code",
   "execution_count": null,
   "id": "floppy-closer",
   "metadata": {},
   "outputs": [],
   "source": []
  },
  {
   "cell_type": "code",
   "execution_count": null,
   "id": "retired-rouge",
   "metadata": {},
   "outputs": [],
   "source": []
  },
  {
   "cell_type": "code",
   "execution_count": null,
   "id": "suitable-groove",
   "metadata": {},
   "outputs": [],
   "source": []
  },
  {
   "cell_type": "markdown",
   "id": "duplicate-mauritius",
   "metadata": {},
   "source": [
    "### Exemplo 3 (Transformação de variáveis):"
   ]
  },
  {
   "cell_type": "code",
   "execution_count": null,
   "id": "alien-router",
   "metadata": {},
   "outputs": [],
   "source": [
    "set.seed(123)\n",
    "x = runif(100,0,20)\n",
    "z = 0.6+0.35*x\n",
    "z = z + rnorm(length(x),0,0.5)\n",
    "y = 0.4*(3^z)"
   ]
  },
  {
   "cell_type": "code",
   "execution_count": null,
   "id": "homeless-demonstration",
   "metadata": {
    "scrolled": true
   },
   "outputs": [],
   "source": [
    "plot(x,y)"
   ]
  },
  {
   "cell_type": "code",
   "execution_count": null,
   "id": "yellow-accent",
   "metadata": {},
   "outputs": [],
   "source": []
  },
  {
   "cell_type": "code",
   "execution_count": null,
   "id": "indonesian-situation",
   "metadata": {},
   "outputs": [],
   "source": []
  },
  {
   "cell_type": "code",
   "execution_count": null,
   "id": "continuing-journalist",
   "metadata": {},
   "outputs": [],
   "source": []
  },
  {
   "cell_type": "code",
   "execution_count": null,
   "id": "martial-environment",
   "metadata": {},
   "outputs": [],
   "source": []
  }
 ],
 "metadata": {
  "kernelspec": {
   "display_name": "R",
   "language": "R",
   "name": "ir"
  },
  "language_info": {
   "codemirror_mode": "r",
   "file_extension": ".r",
   "mimetype": "text/x-r-source",
   "name": "R",
   "pygments_lexer": "r",
   "version": "3.6.1"
  }
 },
 "nbformat": 4,
 "nbformat_minor": 5
}
