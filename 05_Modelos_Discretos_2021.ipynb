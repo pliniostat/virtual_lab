{
 "cells": [
  {
   "cell_type": "markdown",
   "metadata": {
    "deletable": false,
    "editable": false
   },
   "source": [
    "<a href=\"http://www.unioeste.br\"><img src=\"https://www5.unioeste.br/portalunioeste/templates/tlpcampus/images/logoUnioeste.png\" align=\"right\"></a>\n",
    "\n",
    "<h1><center>Atividade Prática em R - Variáveis Aleatórias Discretas</center></h1>\n",
    "\n",
    "<center>Prof.Dr. Plinio Andrade</center>"
   ]
  },
  {
   "cell_type": "markdown",
   "metadata": {
    "deletable": false,
    "editable": false
   },
   "source": [
    "Nesta atividade prática você aprenderá a utilizar o R para:\n",
    "\n",
    "* sortear elementos de uma lista;\n",
    "* calcular probabilidades de variáveis Binomiais, Poisson e Geométrica (função de probabilidade);\n",
    "* calcular probabilidades acumuladas de variáveis Binomiais, Poisson e Geométrica (função de distribuição acumulada).\n",
    "* simular dados de populações com distribuição Binomial, Poisson e Geométrica.\n",
    "* obter quantis teóricos das distribuições Binomial, Poisson e Geométrica.\n",
    "\n",
    "<b> <font color='red'>ATENÇÃO!</font></b> sempre que este arquivo for reaberto você deverá executar todas as células de código novamente. Cada célula ativa é executada pressionando o botão <b>Run</b> no menu ou teclando <b>Ctrl+Enter</b> (persistindo dúvidas, assista a videoaula de apresentação sobre notebooks).\n",
    "\n",
    "Caso necessite criar mais células de código, basta ir ao menu Insert.\n",
    "\n",
    "***\n",
    "## 1) Sorteando elementos de uma lista\n",
    "\n",
    "Vamos primeiramente simular resultados dicotômicos, isto é, com apenas dois possíveis resultados. Por exemplo, vamos simular o lançamento de uma moeda honesta. Neste caso, vimos que o espaço amostral é $\\Omega=\\{cara,coroa\\}$. Este conjunto pode ser representado no R como um vetor utilizando o seguinte comando:"
   ]
  },
  {
   "cell_type": "code",
   "execution_count": null,
   "metadata": {
    "deletable": false,
    "editable": false
   },
   "outputs": [],
   "source": [
    "omega = c(\"cara\",\"coroa\") # armazenando\n",
    "omega                     # visualizando"
   ]
  },
  {
   "cell_type": "markdown",
   "metadata": {
    "deletable": false,
    "editable": false
   },
   "source": [
    "Note que o vetor criado possui aspas nos elementos, pois é assim que o R reconhece caracteres. Vamos agora simular 10 lançamentos da moeda. Fazemos isso utilizando a função ```sample()```. O argumento ```replace = TRUE``` significa que vamos amostrar **com reposição**:"
   ]
  },
  {
   "cell_type": "code",
   "execution_count": null,
   "metadata": {
    "deletable": false,
    "editable": false
   },
   "outputs": [],
   "source": [
    "sample(omega, 10, replace = TRUE)"
   ]
  },
  {
   "cell_type": "markdown",
   "metadata": {
    "deletable": false,
    "editable": false
   },
   "source": [
    "Execute a célula acima várias vezes para notar que os resultados serão diferentes, já que trata-se de sorteios e, portando, as amostras são aleatórias.\n",
    "\n",
    "Vamos supor agora que a moeda é desonesta. Neste caso, vamos assumir que a probabilidade de sair cara seja igual a $0,7$ ($0,3$ para coroa). Neste caso, devemos atribuir essas probabilidades no argumento ```prob``` da função ```sample()```. Executando a célula abaixo várias vezes, você irá notar que a proporção de caras nas amostras irá aumentar."
   ]
  },
  {
   "cell_type": "code",
   "execution_count": null,
   "metadata": {
    "deletable": false,
    "editable": false
   },
   "outputs": [],
   "source": [
    "sample(omega, 10, replace = TRUE, prob = c(0.7,0.3))"
   ]
  },
  {
   "cell_type": "markdown",
   "metadata": {
    "deletable": false,
    "editable": false
   },
   "source": [
    "Suponha que o interesse seja contar o número de caras nos 10 lançamentos. Se associarmos um resultado \"cara\" ao número 1 e um resultado \"coroa\" ao número zero, podemos reescrever o espaço amostral como $\\Omega=\\{0,1\\}$. Após realizarmos o sorteio, basta contar quantos $1$'s ocorreram na amostra. Neste caso, isso é feito somando os elementos da amostra. No R, utilizamos a função ```sum()```. Façamos isso na célula seguinte:"
   ]
  },
  {
   "cell_type": "code",
   "execution_count": null,
   "metadata": {
    "deletable": false,
    "editable": false
   },
   "outputs": [],
   "source": [
    "omega   = c(0,1)                            # definindo o conjunto de resultados (0: coroa e 1: cara)\n",
    "amostra = sample(omega, 10, replace = TRUE) # armazenando os valores sorteados no vetor \"amostra\"\n",
    "sum(amostra)                                # soma dos elementos do vetor amostra"
   ]
  },
  {
   "cell_type": "markdown",
   "metadata": {
    "deletable": false,
    "editable": false
   },
   "source": [
    "Novamente, cada vez que a célula acima for executada, o resultado será diferente.\n",
    "\n",
    "### Exercício 1\n",
    "Simule o resultado de 20 lançamentos de um dado honesto de 6 faces e calcule a média dos resultados. Repita o experimento várias vezes e observe que essa média deve estar próxima do valor teórico que vimos ser igual a $3,5$."
   ]
  },
  {
   "cell_type": "code",
   "execution_count": null,
   "metadata": {},
   "outputs": [],
   "source": []
  },
  {
   "cell_type": "code",
   "execution_count": null,
   "metadata": {},
   "outputs": [],
   "source": []
  },
  {
   "cell_type": "code",
   "execution_count": null,
   "metadata": {},
   "outputs": [],
   "source": []
  },
  {
   "cell_type": "markdown",
   "metadata": {
    "deletable": false,
    "editable": false
   },
   "source": [
    "## 2) Distribuição Binomial\n",
    "\n",
    "Vimos que se $X\\sim Bin(n,p)$, então sua f.p. é dada por\n",
    "\n",
    "$$\\mathbb{P}(X=x)=\\left(\\begin{array}{c} n \\\\ x \\end{array}\\right)p^x(1-p)^{n-x}, \\ \\ \\mbox{para} \\ \\ x=0,1,2,\\ldots,n.$$\n",
    "\n",
    "Para $n$ e $p$ dados, podemos calcular essas probabilidades por meio da função ```dbinom(x,n,p)```. Por exemplo, suponha que $X\\sim Bin(n=10; p=0,2)$. Podemos calcular, por exemplo, $\\mathbb{P}(X=0)$ e $\\mathbb{P}(X=5)$ por meio dos seguintes comandos:"
   ]
  },
  {
   "cell_type": "code",
   "execution_count": null,
   "metadata": {
    "deletable": false,
    "editable": false
   },
   "outputs": [],
   "source": [
    "dbinom(0,10,0.2)"
   ]
  },
  {
   "cell_type": "code",
   "execution_count": null,
   "metadata": {
    "deletable": false,
    "editable": false
   },
   "outputs": [],
   "source": [
    "dbinom(5,10,0.2)"
   ]
  },
  {
   "cell_type": "markdown",
   "metadata": {
    "deletable": false,
    "editable": false
   },
   "source": [
    "Podemos calcular todas as probabilidades associadas à v.a. $X\\sim Bin(n=10; p=0,2)$, isto é, calcular $\\mathbb{P}(X=x)$ para $x=0,1,2,\\ldots,10$ utilizando o seguinte comando:"
   ]
  },
  {
   "cell_type": "code",
   "execution_count": null,
   "metadata": {
    "deletable": false,
    "editable": false
   },
   "outputs": [],
   "source": [
    "dbinom(0:10,10,0.2) # o comando 0:10 cria o vetor (0,1,2,...,10)"
   ]
  },
  {
   "cell_type": "markdown",
   "metadata": {
    "deletable": false,
    "editable": false
   },
   "source": [
    "**Observação:** No R, valores do tipo ae$\\pm$x significa $a\\times 10^{\\pm x}$. Por exemplo ```1.024e-07```, significa $1,024\\times 10^{-7}$.\n",
    "\n",
    "Podemos fazer um gráfico da f.p. colocando os valores de $x$ no eixo das abscissas e $\\mathbb{P}(X=x)$ no eixo das ordenadas. Isso é feito a seguir:"
   ]
  },
  {
   "cell_type": "code",
   "execution_count": null,
   "metadata": {
    "deletable": false,
    "editable": false
   },
   "outputs": [],
   "source": [
    "x = 0:10                # valores do suporte da v.a. X\n",
    "y = dbinom(0:10,10,0.2) # valores da f.p. para cada valor de x.\n",
    "plot(x,y)               # gráfico da f.p. da v.a. X"
   ]
  },
  {
   "cell_type": "markdown",
   "metadata": {
    "deletable": false,
    "editable": false
   },
   "source": [
    "### Exercício 2\n",
    "Seja $X\\sim Bin(100; 0,3)$. Calcule todas as suas probabilidades e verifique que sua soma é igual a 1. Para somar todos os elementos de um objeto (vetor) utilize a função ```sum()```. Note que esse seria um exercício muito difícil de se fazer sem o auxílio de um computador."
   ]
  },
  {
   "cell_type": "code",
   "execution_count": null,
   "metadata": {},
   "outputs": [],
   "source": []
  },
  {
   "cell_type": "code",
   "execution_count": null,
   "metadata": {},
   "outputs": [],
   "source": []
  },
  {
   "cell_type": "code",
   "execution_count": null,
   "metadata": {},
   "outputs": [],
   "source": []
  },
  {
   "cell_type": "markdown",
   "metadata": {
    "deletable": false,
    "editable": false
   },
   "source": [
    "Para calcular probabilidades acumuladas de uma v.a. binomial, isto é valores de sua f.d.a., utilizamos a função ```pbinom(x,n,p)```. Por exemplo, se $X\\sim Bin(n=10; p=0,2)$, podemos calcular $\\mathbb{P}(X\\leq3)$ por meio do seguinte comando:"
   ]
  },
  {
   "cell_type": "code",
   "execution_count": null,
   "metadata": {
    "deletable": false,
    "editable": false
   },
   "outputs": [],
   "source": [
    "pbinom(3,10,0.2)"
   ]
  },
  {
   "cell_type": "code",
   "execution_count": null,
   "metadata": {},
   "outputs": [],
   "source": [
    "pbinom(10,10,0.2)"
   ]
  },
  {
   "cell_type": "markdown",
   "metadata": {
    "deletable": false,
    "editable": false
   },
   "source": [
    "Lembre-se de utilizar a propriedade do evento complementar para calcular probabilidades de eventos do tipo $\\geq$ ou $>$. Por exemplo, para calcular $\\mathbb{P}(X>5)$ e $\\mathbb{P}(X\\geq3)$, devemos observar que\n",
    "\n",
    "\\begin{eqnarray}\n",
    "(1)\\ \\ \\ \\ & \\mathbb{P}(X>5) &=& 1-\\mathbb{P}(X\\leq5)\\\\\n",
    "(2)\\ \\ \\ \\ & \\mathbb{P}(X\\geq 3) &=& 1-\\mathbb{P}(X<3) = 1-\\mathbb{P}(X\\leq2)\n",
    "\\end{eqnarray}\n",
    "\n",
    "Logo, podemos proceder como segue:"
   ]
  },
  {
   "cell_type": "code",
   "execution_count": null,
   "metadata": {
    "deletable": false,
    "editable": false
   },
   "outputs": [],
   "source": [
    "1-pbinom(5,10,0.2) # expressão (1)"
   ]
  },
  {
   "cell_type": "code",
   "execution_count": null,
   "metadata": {
    "deletable": false,
    "editable": false
   },
   "outputs": [],
   "source": [
    "1-pbinom(2,10,0.2) # expressão (2)"
   ]
  },
  {
   "cell_type": "markdown",
   "metadata": {
    "deletable": false,
    "editable": false
   },
   "source": [
    "Para simular valores de uma distribuição binomial, em outras palavras, gerar dados de uma população binomial, podemos utilizar a função ```rbinom(num,n,p)```, onde ```num``` representa o tamanho da amostra desejada, enquanto ```n``` e ```p``` são os parâmetros da distribuição.\n",
    "\n",
    "Vamos simular uma amostra com 10 valores de uma população modelada por uma v.a. binomial com parâmetros $n=15$ e $p=0.15$. Execute a célula a seguir:"
   ]
  },
  {
   "cell_type": "code",
   "execution_count": null,
   "metadata": {
    "deletable": false,
    "editable": false
   },
   "outputs": [],
   "source": [
    "rbinom(10,15,0.15) # cada vez que esse comando for executado teremos uma amostra diferente (acho que você já sabia...)"
   ]
  },
  {
   "cell_type": "markdown",
   "metadata": {
    "deletable": false,
    "editable": false
   },
   "source": [
    "### Exercício 3\n",
    "Sabemos que se $X\\sim Bin(n,p)$, então\n",
    "\n",
    "$$\\mathbb{E}(X)=np \\ \\ \\ \\ \\ \\mbox{(média populacional ou teórica)}$$\n",
    "\n",
    "$$\\mbox{Var}(X)=np(1-p) \\ \\ \\ \\ \\ \\mbox{(variância populacional ou teórica)}$$\n",
    "\n",
    "A simulação de amostras de uma distribuição teórica serve para estudar empiricamente a eficácia de métodos estatísticos sob a suposição de que a população em estudo segue essa distribuição teórica. Veremos posteriormente que a média amostral e a variância amostral são estimadores com boas propriedades para a média e variância populacional respectivamente. Para verificar se isso realmente é verdade, simule uma amostra de tamanho $20$ da distribuição binomial com parâmetros $n=10$ e $p=0.15$. Calcule a média e a variância dessa amostra. Os valores obtidos (amostrais) ficaram próximos dos valores teóricos? E se você aumentar o número de valores gerados para $200$?"
   ]
  },
  {
   "cell_type": "code",
   "execution_count": null,
   "metadata": {},
   "outputs": [],
   "source": []
  },
  {
   "cell_type": "code",
   "execution_count": null,
   "metadata": {},
   "outputs": [],
   "source": []
  },
  {
   "cell_type": "code",
   "execution_count": null,
   "metadata": {},
   "outputs": [],
   "source": []
  },
  {
   "cell_type": "markdown",
   "metadata": {
    "deletable": false,
    "editable": false
   },
   "source": [
    "Na análise exploratória de dados definimos um quantil amostral como sendo um valor que deixava certa proporção dos dados abaixo dele. Podemos calcular quantis associados a uma distribuição de probabilidade, que chamamos de **quantis teóricos**. A interpretação é praticamente a mesma, mas nesse caso queremos obter um valor $Q(\\alpha)$ que acumule probabilidade $\\alpha$ abaixo dele. \n",
    "\n",
    "Com essa definição, podemos concluir que um quantil teórico de ordem $0<\\alpha<1$ é o valor $Q(\\alpha)$ tal que $\\mathbb{P}(X\\leq Q(\\alpha))=\\alpha$. Isso será verdade para v.a.'s contínuas, mas nem sempre no caso de v.a.'s discretas, pois existem valores de $\\alpha$ para os quais a probabilidade anterior não existe. Basta lembrar que no caso discreto, $F(x)=\\mathbb{P}(X\\leq x)$ é uma função escada (sugiro a leitura de Bussab & Morettin (2006) seção 6.8 para entender melhor esse problema). Portanto, para uma v.a. discreta $X$, definimos o quantil de ordem $0<\\alpha<1$ ou $\\alpha$-quantil de $X$ como sendo o valor $Q(\\alpha)$ que satisfaz\n",
    "\n",
    "$$\\mathbb{P}(X\\leq Q(\\alpha))\\geq \\alpha \\ \\ \\ \\ \\ \\mbox{e} \\ \\ \\ \\ \\ \\mathbb{P}(X\\geq Q(\\alpha))\\geq 1-\\alpha. \\ \\ \\ \\ \\ (1)$$\n",
    "\n",
    "Seja $X\\sim Bin(n,p)$, um quantil de ordem $\\alpha$ de $X$ é obtido utilizando a função ```qbinom(ordem,n,p)```, em que ```ordem``` é a ordem do quantil (valor de $\\alpha$), enquanto ```n``` e ```p``` são os parâmetros da distribuição.\n",
    "\n",
    "Por exemplo, se $X\\sim Bin(10; 0,6)$, podemos obter o quantil teórico de ordem $0,3$ por meio do seguinte comando:"
   ]
  },
  {
   "cell_type": "code",
   "execution_count": null,
   "metadata": {
    "deletable": false,
    "editable": false
   },
   "outputs": [],
   "source": [
    "qbinom(0.3,10,0.6)"
   ]
  },
  {
   "cell_type": "markdown",
   "metadata": {
    "deletable": false,
    "editable": false
   },
   "source": [
    "### Exercício 4\n",
    "Considere novamente que $X\\sim Bin(n=10; p=0,6)$. Verifique que o quantil teórico de ordem $0,3$ obtido anteriormente satisfaz a definição dada pelas relações $(1)$. **Dica:** utilize a probabilidade do evento complementar para verificar a segunda relação da definição."
   ]
  },
  {
   "cell_type": "code",
   "execution_count": null,
   "metadata": {},
   "outputs": [],
   "source": []
  },
  {
   "cell_type": "code",
   "execution_count": null,
   "metadata": {},
   "outputs": [],
   "source": []
  },
  {
   "cell_type": "code",
   "execution_count": null,
   "metadata": {},
   "outputs": [],
   "source": []
  },
  {
   "cell_type": "markdown",
   "metadata": {
    "deletable": false,
    "editable": false
   },
   "source": [
    "## 3) Distribuição Poisson\n",
    "Vimos que se $X\\sim Poisson(\\lambda)$, então\n",
    "\n",
    "$$\\mathbb{P}(X=x)=\\frac{e^{-\\lambda}\\lambda^x}{x!}, \\ \\ \\mbox{para} \\ \\ x=0,1,2,\\ldots$$\n",
    "\n",
    "Neste caso, as probabilidades são calculadas por meio da função ```dpois(x,lambda)``` e as probabilidades acumuladas por meio da função ```ppois(x,lambda)```. Por exemplo, se $X\\sim Poisson(2)$, podemos calcular $\\mathbb{P}(X=4)$ e $\\mathbb{P}(X\\leq 8)$ da seguinte maneira:"
   ]
  },
  {
   "cell_type": "code",
   "execution_count": null,
   "metadata": {
    "deletable": false,
    "editable": false
   },
   "outputs": [],
   "source": [
    "dpois(4,2)"
   ]
  },
  {
   "cell_type": "code",
   "execution_count": null,
   "metadata": {
    "deletable": false,
    "editable": false
   },
   "outputs": [],
   "source": [
    "ppois(8,2)"
   ]
  },
  {
   "cell_type": "markdown",
   "metadata": {
    "deletable": false,
    "editable": false
   },
   "source": [
    "As mesmas observações feitas para o caso Binomial são válidas.\n",
    "\n",
    "Caso o interesse seja o de simular dados de uma v.a. $X\\sim Poisson(\\lambda)$, devemos utilizar a função ```rpois(num,lambda)```, em que ```num``` é o tamanho da amostra desejada e ```lambda``` é o parâmetro da distribuição. Por exemplo, vamos simular uma amostra de tamanho 10 de uma v.a. Poisson com parâmetro $\\lambda=0.5$. Execute a célula a seguir:"
   ]
  },
  {
   "cell_type": "code",
   "execution_count": null,
   "metadata": {
    "deletable": false,
    "editable": false
   },
   "outputs": [],
   "source": [
    "rpois(10,0.5) # não vou mais dizer que a repetição desse comando vai gerar valores diferentes... prometo!"
   ]
  },
  {
   "cell_type": "markdown",
   "metadata": {
    "deletable": false,
    "editable": false
   },
   "source": [
    "Um quantil teórico de uma v.a. Poisson com parâmetro $\\lambda$ é obtido por meio da função ```qpois(ordem,lambda)```, onde ```ordem``` é a ordem do quantil desejado e ```lambda``` é o parâmetro da distribuição. Por exemplo, para encontrar o valor de $x$ que acumula $95\\%$ de probabilidade abaixo dele em uma distribuição de Poisson com parâmetro $\\lambda=2$, fazemos: "
   ]
  },
  {
   "cell_type": "code",
   "execution_count": null,
   "metadata": {
    "deletable": false,
    "editable": false
   },
   "outputs": [],
   "source": [
    "qpois(0.95,2)"
   ]
  },
  {
   "cell_type": "markdown",
   "metadata": {
    "deletable": false,
    "editable": false
   },
   "source": [
    "### Exercício 5 (Na verdade um exemplo interativo)\n",
    "Seja $X\\sim Bin(n,p)$ tal que $n$ seja suficientemente grande e $p$ pequeno. Temos que a distribuição de $X$ pode ser aproximada pela distribuição de Poisson com parâmetro $\\lambda=np$. Aceita-se em geral que este resultado é válido quando $n\\geq 100$ e $np\\leq10$. Vamos verificar esse resultado empiricamente, isto é, por meio de simulações. Para isso, considere que $X\\sim Bin(n=100; p=0,08)$.\n",
    "\n",
    "**(a)** Simule uma amostra de 1000 valores da distribuição binomial com parâmetros $n=100$ e $p=0,08$. Armazene-os em um vetor chamado ```x```."
   ]
  },
  {
   "cell_type": "code",
   "execution_count": null,
   "metadata": {
    "deletable": false,
    "editable": false
   },
   "outputs": [],
   "source": [
    "x = rbinom(1000,100,0.08)"
   ]
  },
  {
   "cell_type": "markdown",
   "metadata": {
    "deletable": false,
    "editable": false
   },
   "source": [
    "**(b)** Simule uma amostra de 1000 valores da distribuição Poisson com parâmetro $\\lambda=np=8$. Armazene-os em um vetor chamado ```y```."
   ]
  },
  {
   "cell_type": "code",
   "execution_count": null,
   "metadata": {
    "deletable": false,
    "editable": false
   },
   "outputs": [],
   "source": [
    "y = rpois(1000,8)"
   ]
  },
  {
   "cell_type": "markdown",
   "metadata": {
    "deletable": false,
    "editable": false
   },
   "source": [
    "**(c)** Armazene num vetor chamado ```ordem``` uma sequência de valores que vão de 0 a 1 com incrementos de 0,05."
   ]
  },
  {
   "cell_type": "code",
   "execution_count": null,
   "metadata": {
    "deletable": false,
    "editable": false
   },
   "outputs": [],
   "source": [
    "ordem = seq(0,1,by=0.05)"
   ]
  },
  {
   "cell_type": "markdown",
   "metadata": {
    "deletable": false,
    "editable": false
   },
   "source": [
    "**(d)** Armazene num vetor chamado ```qb``` os quantís **amostrais** com ordens iguais aos do vetor ```ordem``` dos dados simulados no item (a). Repita para um vetor chamado ```qp``` para os dados simulados no item (b)."
   ]
  },
  {
   "cell_type": "code",
   "execution_count": null,
   "metadata": {
    "deletable": false,
    "editable": false
   },
   "outputs": [],
   "source": [
    "qb = quantile(x,ordem)\n",
    "qp = quantile(y,ordem)"
   ]
  },
  {
   "cell_type": "markdown",
   "metadata": {
    "deletable": false,
    "editable": false
   },
   "source": [
    "**(e)** Faça um gráfico com ```qb``` no eixo X e ```qp``` no eixo Y."
   ]
  },
  {
   "cell_type": "code",
   "execution_count": null,
   "metadata": {
    "deletable": false,
    "editable": false
   },
   "outputs": [],
   "source": [
    "plot(qb,qp)"
   ]
  },
  {
   "cell_type": "markdown",
   "metadata": {
    "deletable": false,
    "editable": false
   },
   "source": [
    "Observe que os pontos estão dispostos sobre uma linha diagonal imaginária. Essa é uma maneira de observar que os dados gerados nos itens (a) e (b), embora de distribuições diferentes, possuem a mesma forma. Uma outra maneira de se observar isso é plotando o histograma (em densidade de frequência relativa) dos dados gerados em (a) e plotar no mesmo gráfico as probabilidades teóricas de uma v.a. Poisson com parâmetro $\\lambda=8$. O histograma e os pontos devem ficar \"mais ou menos\" sobrepostos. Isso será feito na célula seguinte:"
   ]
  },
  {
   "cell_type": "code",
   "execution_count": null,
   "metadata": {
    "deletable": false,
    "editable": false
   },
   "outputs": [],
   "source": [
    "probs = dpois(0:100,8) # calculando as probabilidades Poisson com parâmetro 8 para os valores 0,1,2,...,100.\n",
    "hist(x, freq = FALSE)  # histograma dos dados binomiais gerados utilizando densidade de frequência relativa.\n",
    "points(0:100, probs)   # adicionando os pontos correspondentes às probabilidades teóricas da v.a. Poisson.  "
   ]
  },
  {
   "cell_type": "markdown",
   "metadata": {
    "deletable": false,
    "editable": false
   },
   "source": [
    "## 4) Distribuição Geométrica\n",
    "\n",
    "Vimos que se $X\\sim Geom(p)$ então\n",
    "\n",
    "$$\\mathbb{P}(X=x)=(1-p)^x p, \\ \\ \\ \\ \\mbox{para} \\ \\ x=0,1,2,\\ldots$$\n",
    "\n",
    "Para calcular as probabilidades $\\mathbb{P}(X=x)$ utilizamos a função ```dgeom(x,p)```, que fornece a f.p. de uma v.a. Geométrica com parâmetro $p$. Se o objetivo for calcular $\\mathbb{P}(X\\leq x)$, utilizamos a função ```pgeom(x,p)```. A simulação de valores dessa v.a. é feita por meio da função ```rgeom(num,p)```, em que ```num``` representa a quantidade de valores que se deseja simular. Finalmente, um quantil teórico de ordem $\\alpha$ de uma distribuição geométrica pode ser calculado por meio da função ```qgeom(ordem,p)```. "
   ]
  }
 ],
 "metadata": {
  "kernelspec": {
   "display_name": "R",
   "language": "R",
   "name": "ir"
  },
  "language_info": {
   "codemirror_mode": "r",
   "file_extension": ".r",
   "mimetype": "text/x-r-source",
   "name": "R",
   "pygments_lexer": "r",
   "version": "3.6.1"
  }
 },
 "nbformat": 4,
 "nbformat_minor": 4
}
